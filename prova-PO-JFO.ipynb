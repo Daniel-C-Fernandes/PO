{
 "cells": [
  {
   "cell_type": "markdown",
   "metadata": {},
   "source": [
    "# Implementação\n",
    "\n",
    "## Grupo: \n",
    "\n",
    "Samara\n",
    "\n",
    "Giovana\n",
    "\n",
    "Daniel\n",
    "\n",
    "<hr>\n",
    "\n",
    "A DURAÇO fabrica chapas retangulares de aços variados, com comprimento $L$ e largura $W$, que depois corta em retângulos menores, de comprimento $l_i$ e largura $w_i$, para satisfazer às encomendas de clientes. A saída da laminagem um engenheiro consulta as encomendas pendentes no sistema e decide quais retângulos serão cortados naquela chapa, isso é, é definido o padrão de corte para aquela chapa. \n",
    "\n",
    "Cada retângulo encomendado tem um valor de venda $v_i$ e o objetivo é maximizar o valor extraído de cada chapa, ou seja, o valor dos retângulos cortados a partir da chapa. \n",
    "\n",
    "Devido às características do aço variarem com a dirção, os retângulos não podem ser rotacionados e têm de ser cortados segundo a orientação com que foram encomendados, isto é, a dimensão $l_i$ ao longo de $L$ e a dimensão $w_i$ ao longo de $W$. \n",
    "\n",
    "Assuma que o comprimento da chapa é sempre maior ou igual à largura da chapa, ou seja, $L \\geq W$."
   ]
  },
  {
   "cell_type": "markdown",
   "metadata": {},
   "source": [
    "<hr>\n",
    "\n",
    "Considere o seguinte modelo de programação linear mista para este problema:\n",
    "\n",
    "Dados:\n",
    "\n",
    "$L$ – Comprimento da chapa.\n",
    "\n",
    "$W$ – Largura da chapa.\n",
    "\n",
    "$m$ – Número de retângulos encomendados.\n",
    "\n",
    "$l_i$ – Comprimento do retângulo $i$ ($i \\in \\{1, \\dots, m\\}$).\n",
    "\n",
    "$w_i$ – Largura do retângulo $i$ ($i \\in \\{1, \\dots, m\\}$).\n",
    "\n",
    "$v_i$ – Valor do retângulo $i$ ($i \\in \\{1, \\dots, m\\}$).\n",
    "\n",
    "<hr>\n",
    "\n",
    "## Variáveis de decisão:\n",
    "\n",
    "$ \\delta_i \\in \\{0, 1\\}$ – O retângulo $i$ ($i \\in \\{1, \\dots, m$}) é selecionado, ou não, para fazer parte do padrão de corte.\n",
    "\n",
    "$x_i \\geq 0$ – Coordenada $x$ de posicionamento do canto inferior esquerdo do retângulo $i$.\n",
    "\n",
    "$y_i \\geq 0$ – Coordenada $y$ de posicionamento do canto inferior esquerdo do retângulo $i$.\n",
    "\n",
    "\n",
    "Nota: Considere que a origem do sistema de eixos das coordenadas está no canto inferior esquerdo da chapa. Por exemplo, no exemplo apresentado no enunciado, o retângulo de dimensões (0, 65×1, 90) está posicionado nas coordenadas x = 2, 00 ; y = 0, 00.\n",
    "\n",
    "\n",
    "## Variáveis auxiliares:\n",
    "\n",
    "$\\gamma_{ijk} \\in \\{0, 1\\}$ – $i \\in \\{1, \\dots, m\\}$, $j \\in \\{1, \\dots, m\\}$ ∧ $j\\neq i$, $k \\in \\{1, \\dots, 4\\}$"
   ]
  },
  {
   "cell_type": "markdown",
   "metadata": {},
   "source": [
    "<hr>\n",
    "\n",
    "## Função objetivo\n",
    "\n",
    "\\begin{equation*}\n",
    "    \\text{Máx }\\sum_{i=1}^m v_i\\delta_i\n",
    "\\end{equation*}\n",
    "\n",
    "Sujeito a:\n",
    "\n",
    "\\begin{equation*}\n",
    "    x_i-x_j+l_i\\leq (1-\\gamma_{ij1})M \\;\\;\\;\\;\\;\\;\\;\\;\\;\\;\\;\\;\\text{ (2)}\n",
    "\\end{equation*}\n",
    "\n",
    "\\begin{equation*}\n",
    "    -x_i+x_j+l_j\\leq (1-\\gamma_{ij2})M \\;\\;\\;\\;\\;\\;\\;\\;\\;\\;\\;\\;\\text{ (3)}\n",
    "\\end{equation*}\n",
    "\n",
    "\\begin{equation*}\n",
    "    y_i-y_j+w_i\\leq (1-\\gamma_{ij3})M \\;\\;\\;\\;\\;\\;\\;\\;\\;\\;\\;\\;\\text{ (4)}\n",
    "\\end{equation*}\n",
    "\n",
    "\\begin{equation*}\n",
    "    -y_i-y_j+w_j\\leq (1-\\gamma_{ij4})M \\;\\;\\;\\;\\;\\;\\;\\;\\;\\;\\;\\;\\text{ (5)}\n",
    "\\end{equation*}\n",
    "\n",
    "\\begin{equation*}\n",
    "    \\sum_{k=1}^4\\gamma_{ijk}\\geq \\delta_i + \\delta_j -1 \\;\\;\\;\\;\\;\\;\\;\\;\\;\\;\\;\\;\\text{ (2)}\n",
    "\\end{equation*}\n",
    "\n",
    "\\begin{equation*}\n",
    "    x_i\\leq L-l_i\\;\\;\\;\\;\\;\\;\\;\\;\\;\\;\\;\\;\\text{ (7)}\n",
    "\\end{equation*}\n",
    "\n",
    "\\begin{equation*}\n",
    "    y_i\\leq W-w_i \\;\\;\\;\\;\\;\\;\\;\\;\\;\\;\\;\\;\\text{ (8)}\n",
    "\\end{equation*}\n",
    "\n",
    "\\begin{equation*}\n",
    "    x_i,y_i\\geq 0\\;\\;\\;\\;\\;\\;\\;\\;\\;\\;\\;\\;\\text{ (9)}\n",
    "\\end{equation*}\n",
    "\n",
    "\\begin{equation*}\n",
    "    \\delta_i\\in\\{0,1\\}\\;\\;\\;\\;\\;\\;\\;\\;\\;\\;\\;\\;\\text{ (10)}\n",
    "\\end{equation*}\n",
    "\n",
    "\\begin{equation*}\n",
    "    \\gamma_{ijk}\\in\\{0,1\\}\\;\\;\\;\\;\\;\\;\\;\\;\\;\\;\\;\\;\\text{ (11)}\n",
    "\\end{equation*}\n",
    "\n",
    "\\begin{equation*}\n",
    "    M \\rightarrow \\infty \\;\\;\\;\\;\\;\\;\\;\\;\\;\\;\\;\\;\\text{ (12)}\n",
    "\\end{equation*}"
   ]
  },
  {
   "cell_type": "markdown",
   "metadata": {},
   "source": [
    "<hr>\n",
    "\n",
    "### Exemplo concreto:\n",
    "\n",
    "<img title=\"\" src=\"https://raw.githubusercontent.com/Daniel-C-Fernandes/PO/main/chapas.png\" alt=\"transporte\" style=\"zoom:20%\">\n",
    "\n",
    "<hr>\n",
    "\n",
    "Modelo computacional:"
   ]
  },
  {
   "cell_type": "code",
   "execution_count": 1000,
   "metadata": {},
   "outputs": [
    {
     "data": {
      "text/plain": [
       "4×3 Matrix{Int64}:\n",
       " 3  2  4\n",
       " 2  3  5\n",
       " 4  1  6\n",
       " 2  2  3"
      ]
     },
     "execution_count": 1000,
     "metadata": {},
     "output_type": "execute_result"
    }
   ],
   "source": [
    "# Dados:\n",
    "\n",
    "# M grande\n",
    "M = 100\n",
    "\n",
    "# Chapa padrão\n",
    "L = 4\n",
    "W = 4\n",
    "\n",
    "# Cortes: l_i, w_i, v_i\n",
    "C = [\n",
    "    3 2 4;\n",
    "    2 3 5;\n",
    "    4 1 6;\n",
    "    2 2 3\n",
    "]"
   ]
  },
  {
   "cell_type": "code",
   "execution_count": 1001,
   "metadata": {},
   "outputs": [
    {
     "data": {
      "text/latex": [
       "$ 4 δ_{1} + 5 δ_{2} + 6 δ_{3} + 3 δ_{4} $"
      ],
      "text/plain": [
       "4 δ[1] + 5 δ[2] + 6 δ[3] + 3 δ[4]"
      ]
     },
     "execution_count": 1001,
     "metadata": {},
     "output_type": "execute_result"
    }
   ],
   "source": [
    "using HiGHS, JuMP, PrettyTables, Plots\n",
    "model = Model(HiGHS.Optimizer)\n",
    "\n",
    "# Coordenadas x e y\n",
    "@variable(model, x[i=1:4] >= 0)\n",
    "@variable(model, y[i=1:4] >= 0)\n",
    "@variable(model, δ[i=1:4], Bin)\n",
    "\n",
    "# Variáveis auxiliares\n",
    "@variable(model, γ[i=1:4,j=1:4,k=1:4], Bin)\n",
    "\n",
    "# Função objective\n",
    "@objective(model, Max, C[:,3]'δ)"
   ]
  },
  {
   "cell_type": "code",
   "execution_count": 1002,
   "metadata": {},
   "outputs": [
    {
     "data": {
      "text/plain": [
       "JuMP.Containers.SparseAxisArray{ConstraintRef{Model, MathOptInterface.ConstraintIndex{MathOptInterface.ScalarAffineFunction{Float64}, MathOptInterface.LessThan{Float64}}, ScalarShape}, 2, Tuple{Int64, Int64}} with 12 entries:\n",
       "  [1, 2]  =  restr2[1,2] : x[1] - x[2] + 100 γ[1,2,1] ≤ 97\n",
       "  [1, 3]  =  restr2[1,3] : x[1] - x[3] + 100 γ[1,3,1] ≤ 97\n",
       "  [1, 4]  =  restr2[1,4] : x[1] - x[4] + 100 γ[1,4,1] ≤ 97\n",
       "  [2, 1]  =  restr2[2,1] : -x[1] + x[2] + 100 γ[2,1,1] ≤ 98\n",
       "  [2, 3]  =  restr2[2,3] : x[2] - x[3] + 100 γ[2,3,1] ≤ 98\n",
       "  [2, 4]  =  restr2[2,4] : x[2] - x[4] + 100 γ[2,4,1] ≤ 98\n",
       "  [3, 1]  =  restr2[3,1] : -x[1] + x[3] + 100 γ[3,1,1] ≤ 96\n",
       "  [3, 2]  =  restr2[3,2] : -x[2] + x[3] + 100 γ[3,2,1] ≤ 96\n",
       "  [3, 4]  =  restr2[3,4] : x[3] - x[4] + 100 γ[3,4,1] ≤ 96\n",
       "  [4, 1]  =  restr2[4,1] : -x[1] + x[4] + 100 γ[4,1,1] ≤ 98\n",
       "  [4, 2]  =  restr2[4,2] : -x[2] + x[4] + 100 γ[4,2,1] ≤ 98\n",
       "          ⋮\n",
       "  [4, 3]  =  restr2[4,3] : -x[3] + x[4] + 100 γ[4,3,1] ≤ 98"
      ]
     },
     "execution_count": 1002,
     "metadata": {},
     "output_type": "execute_result"
    }
   ],
   "source": [
    "# Restrição (2)\n",
    "@constraint(model, restr2[i=1:4,j=1:4;i!=j], x[i]-x[j]+C[i,1]<=(1-γ[i,j,1])*M)"
   ]
  },
  {
   "cell_type": "code",
   "execution_count": 1003,
   "metadata": {},
   "outputs": [
    {
     "data": {
      "text/plain": [
       "JuMP.Containers.SparseAxisArray{ConstraintRef{Model, MathOptInterface.ConstraintIndex{MathOptInterface.ScalarAffineFunction{Float64}, MathOptInterface.LessThan{Float64}}, ScalarShape}, 2, Tuple{Int64, Int64}} with 12 entries:\n",
       "  [1, 2]  =  restr3[1,2] : -x[1] + x[2] + 100 γ[1,2,2] ≤ 97\n",
       "  [1, 3]  =  restr3[1,3] : -x[1] + x[3] + 100 γ[1,3,2] ≤ 97\n",
       "  [1, 4]  =  restr3[1,4] : -x[1] + x[4] + 100 γ[1,4,2] ≤ 97\n",
       "  [2, 1]  =  restr3[2,1] : x[1] - x[2] + 100 γ[2,1,2] ≤ 98\n",
       "  [2, 3]  =  restr3[2,3] : -x[2] + x[3] + 100 γ[2,3,2] ≤ 98\n",
       "  [2, 4]  =  restr3[2,4] : -x[2] + x[4] + 100 γ[2,4,2] ≤ 98\n",
       "  [3, 1]  =  restr3[3,1] : x[1] - x[3] + 100 γ[3,1,2] ≤ 96\n",
       "  [3, 2]  =  restr3[3,2] : x[2] - x[3] + 100 γ[3,2,2] ≤ 96\n",
       "  [3, 4]  =  restr3[3,4] : -x[3] + x[4] + 100 γ[3,4,2] ≤ 96\n",
       "  [4, 1]  =  restr3[4,1] : x[1] - x[4] + 100 γ[4,1,2] ≤ 98\n",
       "  [4, 2]  =  restr3[4,2] : x[2] - x[4] + 100 γ[4,2,2] ≤ 98\n",
       "          ⋮\n",
       "  [4, 3]  =  restr3[4,3] : x[3] - x[4] + 100 γ[4,3,2] ≤ 98"
      ]
     },
     "execution_count": 1003,
     "metadata": {},
     "output_type": "execute_result"
    }
   ],
   "source": [
    "# Restrição (3)\n",
    "@constraint(model, restr3[i=1:4,j=1:4;i!=j],-x[i]+x[j]+C[i,1]<=(1-γ[i,j,2])*M)"
   ]
  },
  {
   "cell_type": "code",
   "execution_count": 1004,
   "metadata": {},
   "outputs": [
    {
     "data": {
      "text/plain": [
       "JuMP.Containers.SparseAxisArray{ConstraintRef{Model, MathOptInterface.ConstraintIndex{MathOptInterface.ScalarAffineFunction{Float64}, MathOptInterface.LessThan{Float64}}, ScalarShape}, 2, Tuple{Int64, Int64}} with 12 entries:\n",
       "  [1, 2]  =  restr4[1,2] : y[1] - y[2] + 100 γ[1,2,3] ≤ 98\n",
       "  [1, 3]  =  restr4[1,3] : y[1] - y[3] + 100 γ[1,3,3] ≤ 98\n",
       "  [1, 4]  =  restr4[1,4] : y[1] - y[4] + 100 γ[1,4,3] ≤ 98\n",
       "  [2, 1]  =  restr4[2,1] : -y[1] + y[2] + 100 γ[2,1,3] ≤ 97\n",
       "  [2, 3]  =  restr4[2,3] : y[2] - y[3] + 100 γ[2,3,3] ≤ 97\n",
       "  [2, 4]  =  restr4[2,4] : y[2] - y[4] + 100 γ[2,4,3] ≤ 97\n",
       "  [3, 1]  =  restr4[3,1] : -y[1] + y[3] + 100 γ[3,1,3] ≤ 99\n",
       "  [3, 2]  =  restr4[3,2] : -y[2] + y[3] + 100 γ[3,2,3] ≤ 99\n",
       "  [3, 4]  =  restr4[3,4] : y[3] - y[4] + 100 γ[3,4,3] ≤ 99\n",
       "  [4, 1]  =  restr4[4,1] : -y[1] + y[4] + 100 γ[4,1,3] ≤ 98\n",
       "  [4, 2]  =  restr4[4,2] : -y[2] + y[4] + 100 γ[4,2,3] ≤ 98\n",
       "          ⋮\n",
       "  [4, 3]  =  restr4[4,3] : -y[3] + y[4] + 100 γ[4,3,3] ≤ 98"
      ]
     },
     "execution_count": 1004,
     "metadata": {},
     "output_type": "execute_result"
    }
   ],
   "source": [
    "# Restrição (4)\n",
    "@constraint(model, restr4[i=1:4,j=1:4;i!=j],y[i]-y[j]+C[i,2]<=(1-γ[i,j,3])*M)"
   ]
  },
  {
   "cell_type": "code",
   "execution_count": 1005,
   "metadata": {},
   "outputs": [
    {
     "data": {
      "text/plain": [
       "JuMP.Containers.SparseAxisArray{ConstraintRef{Model, MathOptInterface.ConstraintIndex{MathOptInterface.ScalarAffineFunction{Float64}, MathOptInterface.LessThan{Float64}}, ScalarShape}, 2, Tuple{Int64, Int64}} with 12 entries:\n",
       "  [1, 2]  =  restr5[1,2] : -y[1] + y[2] + 100 γ[1,2,4] ≤ 98\n",
       "  [1, 3]  =  restr5[1,3] : -y[1] + y[3] + 100 γ[1,3,4] ≤ 98\n",
       "  [1, 4]  =  restr5[1,4] : -y[1] + y[4] + 100 γ[1,4,4] ≤ 98\n",
       "  [2, 1]  =  restr5[2,1] : y[1] - y[2] + 100 γ[2,1,4] ≤ 97\n",
       "  [2, 3]  =  restr5[2,3] : -y[2] + y[3] + 100 γ[2,3,4] ≤ 97\n",
       "  [2, 4]  =  restr5[2,4] : -y[2] + y[4] + 100 γ[2,4,4] ≤ 97\n",
       "  [3, 1]  =  restr5[3,1] : y[1] - y[3] + 100 γ[3,1,4] ≤ 99\n",
       "  [3, 2]  =  restr5[3,2] : y[2] - y[3] + 100 γ[3,2,4] ≤ 99\n",
       "  [3, 4]  =  restr5[3,4] : -y[3] + y[4] + 100 γ[3,4,4] ≤ 99\n",
       "  [4, 1]  =  restr5[4,1] : y[1] - y[4] + 100 γ[4,1,4] ≤ 98\n",
       "  [4, 2]  =  restr5[4,2] : y[2] - y[4] + 100 γ[4,2,4] ≤ 98\n",
       "          ⋮\n",
       "  [4, 3]  =  restr5[4,3] : y[3] - y[4] + 100 γ[4,3,4] ≤ 98"
      ]
     },
     "execution_count": 1005,
     "metadata": {},
     "output_type": "execute_result"
    }
   ],
   "source": [
    "# Restrição (5)\n",
    "@constraint(model, restr5[i=1:4,j=1:4;i!=j],-y[i]+y[j]+C[i,2]<=(1-γ[i,j,4])*M)"
   ]
  },
  {
   "cell_type": "code",
   "execution_count": 1006,
   "metadata": {},
   "outputs": [
    {
     "data": {
      "text/plain": [
       "JuMP.Containers.SparseAxisArray{ConstraintRef{Model, MathOptInterface.ConstraintIndex{MathOptInterface.ScalarAffineFunction{Float64}, MathOptInterface.GreaterThan{Float64}}, ScalarShape}, 2, Tuple{Int64, Int64}} with 12 entries:\n",
       "  [1, 2]  =  restr6[1,2] : -δ[1] - δ[2] + γ[1,2,1] + γ[1,2,2] + γ[1,2,3] + γ[1,2,4] ≥ -1\n",
       "  [1, 3]  =  restr6[1,3] : -δ[1] - δ[3] + γ[1,3,1] + γ[1,3,2] + γ[1,3,3] + γ[1,3,4] ≥ -1\n",
       "  [1, 4]  =  restr6[1,4] : -δ[1] - δ[4] + γ[1,4,1] + γ[1,4,2] + γ[1,4,3] + γ[1,4,4] ≥ -1\n",
       "  [2, 1]  =  restr6[2,1] : -δ[1] - δ[2] + γ[2,1,1] + γ[2,1,2] + γ[2,1,3] + γ[2,1,4] ≥ -1\n",
       "  [2, 3]  =  restr6[2,3] : -δ[2] - δ[3] + γ[2,3,1] + γ[2,3,2] + γ[2,3,3] + γ[2,3,4] ≥ -1\n",
       "  [2, 4]  =  restr6[2,4] : -δ[2] - δ[4] + γ[2,4,1] + γ[2,4,2] + γ[2,4,3] + γ[2,4,4] ≥ -1\n",
       "  [3, 1]  =  restr6[3,1] : -δ[1] - δ[3] + γ[3,1,1] + γ[3,1,2] + γ[3,1,3] + γ[3,1,4] ≥ -1\n",
       "  [3, 2]  =  restr6[3,2] : -δ[2] - δ[3] + γ[3,2,1] + γ[3,2,2] + γ[3,2,3] + γ[3,2,4] ≥ -1\n",
       "  [3, 4]  =  restr6[3,4] : -δ[3] - δ[4] + γ[3,4,1] + γ[3,4,2] + γ[3,4,3] + γ[3,4,4] ≥ -1\n",
       "  [4, 1]  =  restr6[4,1] : -δ[1] - δ[4] + γ[4,1,1] + γ[4,1,2] + γ[4,1,3] + γ[4,1,4] ≥ -1\n",
       "  [4, 2]  =  restr6[4,2] : -δ[2] - δ[4] + γ[4,2,1] + γ[4,2,2] + γ[4,2,3] + γ[4,2,4] ≥ -1\n",
       "          ⋮\n",
       "  [4, 3]  =  restr6[4,3] : -δ[3] - δ[4] + γ[4,3,1] + γ[4,3,2] + γ[4,3,3] + γ[4,3,4] ≥ -1"
      ]
     },
     "execution_count": 1006,
     "metadata": {},
     "output_type": "execute_result"
    }
   ],
   "source": [
    "# Restrição (6)\n",
    "@constraint(model, restr6[i=1:4,j=1:4;i!=j],sum(γ[i,j,k] for k=1:4)>=δ[i]+δ[j]-1)"
   ]
  },
  {
   "cell_type": "code",
   "execution_count": 1007,
   "metadata": {},
   "outputs": [
    {
     "data": {
      "text/plain": [
       "4-element Vector{ConstraintRef{Model, MathOptInterface.ConstraintIndex{MathOptInterface.ScalarAffineFunction{Float64}, MathOptInterface.LessThan{Float64}}, ScalarShape}}:\n",
       " restr7[1] : x[1] ≤ 1\n",
       " restr7[2] : x[2] ≤ 2\n",
       " restr7[3] : x[3] ≤ 0\n",
       " restr7[4] : x[4] ≤ 2"
      ]
     },
     "execution_count": 1007,
     "metadata": {},
     "output_type": "execute_result"
    }
   ],
   "source": [
    "# Restrição (7)\n",
    "@constraint(model, restr7[i=1:4], x[i]<=L-C[i,1])"
   ]
  },
  {
   "cell_type": "code",
   "execution_count": 1008,
   "metadata": {},
   "outputs": [
    {
     "data": {
      "text/plain": [
       "4-element Vector{ConstraintRef{Model, MathOptInterface.ConstraintIndex{MathOptInterface.ScalarAffineFunction{Float64}, MathOptInterface.LessThan{Float64}}, ScalarShape}}:\n",
       " restr8[1] : y[1] ≤ 2\n",
       " restr8[2] : y[2] ≤ 1\n",
       " restr8[3] : y[3] ≤ 3\n",
       " restr8[4] : y[4] ≤ 2"
      ]
     },
     "execution_count": 1008,
     "metadata": {},
     "output_type": "execute_result"
    }
   ],
   "source": [
    "# Restrição (8)\n",
    "@constraint(model, restr8[i=1:4], y[i]<=W-C[i,2])"
   ]
  },
  {
   "cell_type": "code",
   "execution_count": 1009,
   "metadata": {},
   "outputs": [
    {
     "name": "stdout",
     "output_type": "stream",
     "text": [
      "Max 4 δ[1] + 5 δ[2] + 6 δ[3] + 3 δ[4]\n",
      "Subject to\n",
      " restr6[1,2] : -δ[1] - δ[2] + γ[1,2,1] + γ[1,2,2] + γ[1,2,3] + γ[1,2,4] ≥ -1\n",
      " restr6[1,3] : -δ[1] - δ[3] + γ[1,3,1] + γ[1,3,2] + γ[1,3,3] + γ[1,3,4] ≥ -1\n",
      " restr6[1,4] : -δ[1] - δ[4] + γ[1,4,1] + γ[1,4,2] + γ[1,4,3] + γ[1,4,4] ≥ -1\n",
      " restr6[2,1] : -δ[1] - δ[2] + γ[2,1,1] + γ[2,1,2] + γ[2,1,3] + γ[2,1,4] ≥ -1\n",
      " restr6[2,3] : -δ[2] - δ[3] + γ[2,3,1] + γ[2,3,2] + γ[2,3,3] + γ[2,3,4] ≥ -1\n",
      " restr6[2,4] : -δ[2] - δ[4] + γ[2,4,1] + γ[2,4,2] + γ[2,4,3] + γ[2,4,4] ≥ -1\n",
      " restr6[3,1] : -δ[1] - δ[3] + γ[3,1,1] + γ[3,1,2] + γ[3,1,3] + γ[3,1,4] ≥ -1\n",
      " restr6[3,2] : -δ[2] - δ[3] + γ[3,2,1] + γ[3,2,2] + γ[3,2,3] + γ[3,2,4] ≥ -1\n",
      " restr6[3,4] : -δ[3] - δ[4] + γ[3,4,1] + γ[3,4,2] + γ[3,4,3] + γ[3,4,4] ≥ -1\n",
      " restr6[4,1] : -δ[1] - δ[4] + γ[4,1,1] + γ[4,1,2] + γ[4,1,3] + γ[4,1,4] ≥ -1\n",
      " restr6[4,2] : -δ[2] - δ[4] + γ[4,2,1] + γ[4,2,2] + γ[4,2,3] + γ[4,2,4] ≥ -1\n",
      " restr6[4,3] : -δ[3] - δ[4] + γ[4,3,1] + γ[4,3,2] + γ[4,3,3] + γ[4,3,4] ≥ -1\n",
      " restr2[1,2] : x[1] - x[2] + 100 γ[1,2,1] ≤ 97\n",
      " restr2[1,3] : x[1] - x[3] + 100 γ[1,3,1] ≤ 97\n",
      " restr2[1,4] : x[1] - x[4] + 100 γ[1,4,1] ≤ 97\n",
      " restr2[2,1] : -x[1] + x[2] + 100 γ[2,1,1] ≤ 98\n",
      " restr2[2,3] : x[2] - x[3] + 100 γ[2,3,1] ≤ 98\n",
      " restr2[2,4] : x[2] - x[4] + 100 γ[2,4,1] ≤ 98\n",
      " restr2[3,1] : -x[1] + x[3] + 100 γ[3,1,1] ≤ 96\n",
      " restr2[3,2] : -x[2] + x[3] + 100 γ[3,2,1] ≤ 96\n",
      " restr2[3,4] : x[3] - x[4] + 100 γ[3,4,1] ≤ 96\n",
      " restr2[4,1] : -x[1] + x[4] + 100 γ[4,1,1] ≤ 98\n",
      " restr2[4,2] : -x[2] + x[4] + 100 γ[4,2,1] ≤ 98\n",
      " restr2[4,3] : -x[3] + x[4] + 100 γ[4,3,1] ≤ 98\n",
      " restr3[1,2] : -x[1] + x[2] + 100 γ[1,2,2] ≤ 97\n",
      " restr3[1,3] : -x[1] + x[3] + 100 γ[1,3,2] ≤ 97\n",
      " restr3[1,4] : -x[1] + x[4] + 100 γ[1,4,2] ≤ 97\n",
      " restr3[2,1] : x[1] - x[2] + 100 γ[2,1,2] ≤ 98\n",
      " restr3[2,3] : -x[2] + x[3] + 100 γ[2,3,2] ≤ 98\n",
      " restr3[2,4] : -x[2] + x[4] + 100 γ[2,4,2] ≤ 98\n",
      " restr3[3,1] : x[1] - x[3] + 100 γ[3,1,2] ≤ 96\n",
      " restr3[3,2] : x[2] - x[3] + 100 γ[3,2,2] ≤ 96\n",
      " restr3[3,4] : -x[3] + x[4] + 100 γ[3,4,2] ≤ 96\n",
      " restr3[4,1] : x[1] - x[4] + 100 γ[4,1,2] ≤ 98\n",
      " restr3[4,2] : x[2] - x[4] + 100 γ[4,2,2] ≤ 98\n",
      " restr3[4,3] : x[3] - x[4] + 100 γ[4,3,2] ≤ 98\n",
      " restr4[1,2] : y[1] - y[2] + 100 γ[1,2,3] ≤ 98\n",
      " restr4[1,3] : y[1] - y[3] + 100 γ[1,3,3] ≤ 98\n",
      " restr4[1,4] : y[1] - y[4] + 100 γ[1,4,3] ≤ 98\n",
      " restr4[2,1] : -y[1] + y[2] + 100 γ[2,1,3] ≤ 97\n",
      " restr4[2,3] : y[2] - y[3] + 100 γ[2,3,3] ≤ 97\n",
      " restr4[2,4] : y[2] - y[4] + 100 γ[2,4,3] ≤ 97\n",
      " restr4[3,1] : -y[1] + y[3] + 100 γ[3,1,3] ≤ 99\n",
      " restr4[3,2] : -y[2] + y[3] + 100 γ[3,2,3] ≤ 99\n",
      " restr4[3,4] : y[3] - y[4] + 100 γ[3,4,3] ≤ 99\n",
      " restr4[4,1] : -y[1] + y[4] + 100 γ[4,1,3] ≤ 98\n",
      " restr4[4,2] : -y[2] + y[4] + 100 γ[4,2,3] ≤ 98\n",
      " restr4[4,3] : -y[3] + y[4] + 100 γ[4,3,3] ≤ 98\n",
      " restr5[1,2] : -y[1] + y[2] + 100 γ[1,2,4] ≤ 98\n",
      " restr5[1,3] : -y[1] + y[3] + 100 γ[1,3,4] ≤ 98\n",
      " restr5[1,4] : -y[1] + y[4] + 100 γ[1,4,4] ≤ 98\n",
      " restr5[2,1] : y[1] - y[2] + 100 γ[2,1,4] ≤ 97\n",
      " restr5[2,3] : -y[2] + y[3] + 100 γ[2,3,4] ≤ 97\n",
      " restr5[2,4] : -y[2] + y[4] + 100 γ[2,4,4] ≤ 97\n",
      " restr5[3,1] : y[1] - y[3] + 100 γ[3,1,4] ≤ 99\n",
      " restr5[3,2] : y[2] - y[3] + 100 γ[3,2,4] ≤ 99\n",
      " restr5[3,4] : -y[3] + y[4] + 100 γ[3,4,4] ≤ 99\n",
      " restr5[4,1] : y[1] - y[4] + 100 γ[4,1,4] ≤ 98\n",
      " restr5[4,2] : y[2] - y[4] + 100 γ[4,2,4] ≤ 98\n",
      " restr5[4,3] : y[3] - y[4] + 100 γ[4,3,4] ≤ 98\n",
      " restr7[1] : x[1] ≤ 1\n",
      " restr7[2] : x[2] ≤ 2\n",
      " restr7[3] : x[3] ≤ 0\n",
      " restr7[4] : x[4] ≤ 2\n",
      " restr8[1] : y[1] ≤ 2\n",
      " restr8[2] : y[2] ≤ 1\n",
      " restr8[3] : y[3] ≤ 3\n",
      " restr8[4] : y[4] ≤ 2\n",
      " x[1] ≥ 0\n",
      " x[2] ≥ 0\n",
      " x[3] ≥ 0\n",
      " x[4] ≥ 0\n",
      " y[1] ≥ 0\n",
      " y[2] ≥ 0\n",
      " y[3] ≥ 0\n",
      " y[4] ≥ 0\n",
      " δ[1] binary\n",
      " δ[2] binary\n",
      " δ[3] binary\n",
      " δ[4] binary\n",
      " γ[1,1,1] binary\n",
      " γ[2,1,1] binary\n",
      " γ[3,1,1] binary\n",
      " γ[4,1,1] binary\n",
      " γ[1,2,1] binary\n",
      " γ[2,2,1] binary\n",
      " γ[3,2,1] binary\n",
      " γ[4,2,1] binary\n",
      " γ[1,3,1] binary\n",
      " γ[2,3,1] binary\n",
      " γ[3,3,1] binary\n",
      " γ[4,3,1] binary\n",
      " γ[1,4,1] binary\n",
      " γ[2,4,1] binary\n",
      " γ[3,4,1] binary\n",
      " γ[4,4,1] binary\n",
      " γ[1,1,2] binary\n",
      " γ[2,1,2] binary\n",
      " γ[3,1,2] binary\n",
      " γ[4,1,2] binary\n",
      " γ[1,2,2] binary\n",
      " γ[2,2,2] binary\n",
      " γ[3,2,2] binary\n",
      " γ[4,2,2] binary\n",
      " γ[1,3,2] binary\n",
      " γ[2,3,2] binary\n",
      " γ[3,3,2] binary\n",
      " γ[4,3,2] binary\n",
      " γ[1,4,2] binary\n",
      " γ[2,4,2] binary\n",
      " γ[3,4,2] binary\n",
      " γ[4,4,2] binary\n",
      " γ[1,1,3] binary\n",
      " γ[2,1,3] binary\n",
      " γ[3,1,3] binary\n",
      " γ[4,1,3] binary\n",
      " γ[1,2,3] binary\n",
      " γ[2,2,3] binary\n",
      " γ[3,2,3] binary\n",
      " γ[4,2,3] binary\n",
      " γ[1,3,3] binary\n",
      " γ[2,3,3] binary\n",
      " γ[3,3,3] binary\n",
      " γ[4,3,3] binary\n",
      " γ[1,4,3] binary\n",
      " γ[2,4,3] binary\n",
      " γ[3,4,3] binary\n",
      " γ[4,4,3] binary\n",
      " γ[1,1,4] binary\n",
      " γ[2,1,4] binary\n",
      " γ[3,1,4] binary\n",
      " γ[4,1,4] binary\n",
      " γ[1,2,4] binary\n",
      " γ[2,2,4] binary\n",
      " γ[3,2,4] binary\n",
      " γ[4,2,4] binary\n",
      " γ[1,3,4] binary\n",
      " γ[2,3,4] binary\n",
      " γ[3,3,4] binary\n",
      " γ[4,3,4] binary\n",
      " γ[1,4,4] binary\n",
      " γ[2,4,4] binary\n",
      " γ[3,4,4] binary\n",
      " γ[4,4,4] binary\n",
      "\n",
      "\n"
     ]
    }
   ],
   "source": [
    "println(model,\"\\n\")"
   ]
  },
  {
   "cell_type": "code",
   "execution_count": 1010,
   "metadata": {},
   "outputs": [
    {
     "name": "stdout",
     "output_type": "stream",
     "text": [
      "Running HiGHS 1.6.0: Copyright (c) 2023 HiGHS under MIT licence terms\n",
      "Presolving model\n",
      "60 rows, 59 cols, 204 nonzeros\n",
      "37 rows, 35 cols, 120 nonzeros\n",
      "Objective function is integral with scale 1\n",
      "\n",
      "Solving MIP model with:\n",
      "   37 rows\n",
      "   35 cols (29 binary, 0 integer, 0 implied int., 6 continuous)\n",
      "   120 nonzeros\n",
      "\n",
      "        Nodes      |    B&B Tree     |            Objective Bounds              |  Dynamic Constraints |       Work      \n",
      "     Proc. InQueue |  Leaves   Expl. | BestBound       BestSol              Gap |   Cuts   InLp Confl. | LpIters     Time\n",
      "\n",
      "         0       0         0   0.00%   18              -inf                 inf        0      0      0         0     0.0s\n",
      " R       0       0         0   0.00%   18              8                125.00%        0      0      0        23     0.0s\n",
      " C       0       0         0   0.00%   14              10                40.00%       96     12      0        50     0.0s\n",
      "\n",
      "Solving report\n",
      "  Status            Optimal\n",
      "  Primal bound      14\n",
      "  Dual bound        14\n",
      "  Gap               0% (tolerance: 0.01%)\n",
      "  Solution status   feasible\n",
      "                    14 (objective)\n",
      "                    0 (bound viol.)\n",
      "                    2.6645352591e-15 (int. viol.)\n",
      "                    0 (row viol.)\n",
      "  Timing            0.02 (total)\n",
      "                    0.00 (presolve)\n",
      "                    0.00 (postsolve)\n",
      "  Nodes             1\n",
      "  LP iterations     69 (total)\n",
      "                    0 (strong br.)\n",
      "                    46 (separation)\n",
      "                    0 (heuristics)\n"
     ]
    }
   ],
   "source": [
    "optimize!(model)"
   ]
  },
  {
   "cell_type": "code",
   "execution_count": 1011,
   "metadata": {},
   "outputs": [
    {
     "name": "stdout",
     "output_type": "stream",
     "text": [
      "\n",
      " \n",
      " Valor da função objetivo para a solução ótima: z* = 14.0\n"
     ]
    }
   ],
   "source": [
    "println(\"\\n \\n Valor da função objetivo para a solução ótima: z* = \",objective_value(model))"
   ]
  },
  {
   "cell_type": "code",
   "execution_count": 1012,
   "metadata": {},
   "outputs": [
    {
     "name": "stdout",
     "output_type": "stream",
     "text": [
      "\n",
      "\n",
      " Solução ótima: \n",
      "┌───────┬──────┐\n",
      "│\u001b[1m Chapa \u001b[0m│\u001b[1m   δᵢ \u001b[0m│\n",
      "├───────┼──────┤\n",
      "│   1.0 │ -0.0 │\n",
      "│   2.0 │  1.0 │\n",
      "│   3.0 │  1.0 │\n",
      "│   4.0 │  1.0 │\n",
      "└───────┴──────┘\n"
     ]
    }
   ],
   "source": [
    "println(\"\\n\\n Solução ótima: \")\n",
    "pretty_table([1:4 value.(δ)];\n",
    "    header=[\"Chapa\",\"δᵢ\"])"
   ]
  },
  {
   "cell_type": "code",
   "execution_count": 1013,
   "metadata": {},
   "outputs": [
    {
     "name": "stdout",
     "output_type": "stream",
     "text": [
      "\n",
      "\n",
      " Coordenadas das chapas: \n",
      "┌───────┬──────┬──────┐\n",
      "│\u001b[1m Chapa \u001b[0m│\u001b[1m   xᵢ \u001b[0m│\u001b[1m   yᵢ \u001b[0m│\n",
      "├───────┼──────┼──────┤\n",
      "│   1.0 │  0.0 │  0.0 │\n",
      "│   2.0 │ -0.0 │ -0.0 │\n",
      "│   3.0 │  0.0 │  3.0 │\n",
      "│   4.0 │  2.0 │ -0.0 │\n",
      "└───────┴──────┴──────┘\n"
     ]
    }
   ],
   "source": [
    "println(\"\\n\\n Coordenadas das chapas: \")\n",
    "pretty_table([1:4 value.(x) value.(y)];\n",
    "    header=[\"Chapa\",\"xᵢ\",\"yᵢ\"])"
   ]
  },
  {
   "cell_type": "code",
   "execution_count": 1014,
   "metadata": {},
   "outputs": [
    {
     "data": {
      "text/plain": [
       "4×4×4 Array{Float64, 3}:\n",
       "[:, :, 1] =\n",
       " 0.0   0.0  0.0  0.0\n",
       " 0.0   0.0  0.0  1.0\n",
       " 0.0   0.0  0.0  0.0\n",
       " 0.0  -0.0  0.0  0.0\n",
       "\n",
       "[:, :, 2] =\n",
       "  0.0  0.0   0.0   0.0\n",
       " -0.0  0.0  -0.0  -0.0\n",
       "  0.0  0.0   0.0   0.0\n",
       "  0.0  1.0  -0.0   0.0\n",
       "\n",
       "[:, :, 3] =\n",
       " 0.0   0.0  0.0   0.0\n",
       " 0.0   0.0  1.0   0.0\n",
       " 0.0  -0.0  0.0  -0.0\n",
       " 0.0   0.0  1.0   0.0\n",
       "\n",
       "[:, :, 4] =\n",
       "  0.0  -0.0  -0.0  -0.0\n",
       "  0.0   0.0   0.0   0.0\n",
       " -0.0   1.0   0.0   1.0\n",
       " -0.0  -0.0  -0.0   0.0"
      ]
     },
     "execution_count": 1014,
     "metadata": {},
     "output_type": "execute_result"
    }
   ],
   "source": [
    "gamma = value.(γ)"
   ]
  },
  {
   "cell_type": "code",
   "execution_count": 1015,
   "metadata": {},
   "outputs": [
    {
     "data": {
      "image/png": "[encoded data removed]",
      "image/svg+xml": [
       "<?xml version=\"1.0\" encoding=\"utf-8\"?>\n",
       "<svg xmlns=\"http://www.w3.org/2000/svg\" xmlns:xlink=\"http://www.w3.org/1999/xlink\" width=\"500\" height=\"500\" viewBox=\"0 0 2000 2000\">\n",
       "<defs>\n",
       "  <clipPath id=\"clip940\">\n",
       "    <rect x=\"0\" y=\"0\" width=\"2000\" height=\"2000\"/>\n",
       "  </clipPath>\n",
       "</defs>\n",
       "<path clip-path=\"url(#clip940)\" d=\"M0 2000 L2000 2000 L2000 0 L0 0  Z\" fill=\"#ffffff\" fill-rule=\"evenodd\" fill-opacity=\"1\"/>\n",
       "<defs>\n",
       "  <clipPath id=\"clip941\">\n",
       "    <rect x=\"400\" y=\"200\" width=\"1401\" height=\"1401\"/>\n",
       "  </clipPath>\n",
       "</defs>\n",
       "<path clip-path=\"url(#clip940)\" d=\"M108.177 1865.17 L1952.76 1865.17 L1952.76 47.2441 L108.177 47.2441  Z\" fill=\"#ffffff\" fill-rule=\"evenodd\" fill-opacity=\"1\"/>\n",
       "<defs>\n",
       "  <clipPath id=\"clip942\">\n",
       "    <rect x=\"108\" y=\"47\" width=\"1846\" height=\"1819\"/>\n",
       "  </clipPath>\n",
       "</defs>\n",
       "<polyline clip-path=\"url(#clip942)\" style=\"stroke:#000000; stroke-linecap:round; stroke-linejoin:round; stroke-width:2; stroke-opacity:0.1; fill:none\" points=\"601.711,1865.17 601.711,47.2441 \"/>\n",
       "<polyline clip-path=\"url(#clip942)\" style=\"stroke:#000000; stroke-linecap:round; stroke-linejoin:round; stroke-width:2; stroke-opacity:0.1; fill:none\" points=\"1030.47,1865.17 1030.47,47.2441 \"/>\n",
       "<polyline clip-path=\"url(#clip942)\" style=\"stroke:#000000; stroke-linecap:round; stroke-linejoin:round; stroke-width:2; stroke-opacity:0.1; fill:none\" points=\"1459.22,1865.17 1459.22,47.2441 \"/>\n",
       "<polyline clip-path=\"url(#clip942)\" style=\"stroke:#000000; stroke-linecap:round; stroke-linejoin:round; stroke-width:2; stroke-opacity:0.1; fill:none\" points=\"1887.98,1865.17 1887.98,47.2441 \"/>\n",
       "<polyline clip-path=\"url(#clip940)\" style=\"stroke:#000000; stroke-linecap:round; stroke-linejoin:round; stroke-width:4; stroke-opacity:1; fill:none\" points=\"108.177,1813.72 1952.76,1813.72 \"/>\n",
       "<polyline clip-path=\"url(#clip940)\" style=\"stroke:#000000; stroke-linecap:round; stroke-linejoin:round; stroke-width:4; stroke-opacity:1; fill:none\" points=\"601.711,1832.61 601.711,1794.82 \"/>\n",
       "<polyline clip-path=\"url(#clip940)\" style=\"stroke:#000000; stroke-linecap:round; stroke-linejoin:round; stroke-width:4; stroke-opacity:1; fill:none\" points=\"1030.47,1832.61 1030.47,1794.82 \"/>\n",
       "<polyline clip-path=\"url(#clip940)\" style=\"stroke:#000000; stroke-linecap:round; stroke-linejoin:round; stroke-width:4; stroke-opacity:1; fill:none\" points=\"1459.22,1832.61 1459.22,1794.82 \"/>\n",
       "<polyline clip-path=\"url(#clip940)\" style=\"stroke:#000000; stroke-linecap:round; stroke-linejoin:round; stroke-width:4; stroke-opacity:1; fill:none\" points=\"1887.98,1832.61 1887.98,1794.82 \"/>\n",
       "<path clip-path=\"url(#clip940)\" d=\"M592.093 1868.98 L599.732 1868.98 L599.732 1842.62 L591.422 1844.28 L591.422 1840.02 L599.685 1838.36 L604.361 1838.36 L604.361 1868.98 L612 1868.98 L612 1872.92 L592.093 1872.92 L592.093 1868.98 Z\" fill=\"#000000\" fill-rule=\"nonzero\" fill-opacity=\"1\" /><path clip-path=\"url(#clip940)\" d=\"M1025.12 1868.98 L1041.44 1868.98 L1041.44 1872.92 L1019.49 1872.92 L1019.49 1868.98 Q1022.16 1866.23 1026.74 1861.6 Q1031.35 1856.95 1032.53 1855.6 Q1034.77 1853.08 1035.65 1851.34 Q1036.55 1849.58 1036.55 1847.89 Q1036.55 1845.14 1034.61 1843.4 Q1032.69 1841.67 1029.59 1841.67 Q1027.39 1841.67 1024.93 1842.43 Q1022.5 1843.2 1019.73 1844.75 L1019.73 1840.02 Q1022.55 1838.89 1025 1838.31 Q1027.46 1837.73 1029.49 1837.73 Q1034.86 1837.73 1038.06 1840.42 Q1041.25 1843.1 1041.25 1847.59 Q1041.25 1849.72 1040.44 1851.64 Q1039.66 1853.54 1037.55 1856.13 Q1036.97 1856.81 1033.87 1860.02 Q1030.77 1863.22 1025.12 1868.98 Z\" fill=\"#000000\" fill-rule=\"nonzero\" fill-opacity=\"1\" /><path clip-path=\"url(#clip940)\" d=\"M1463.47 1854.28 Q1466.83 1855 1468.7 1857.27 Q1470.6 1859.54 1470.6 1862.87 Q1470.6 1867.99 1467.08 1870.79 Q1463.56 1873.59 1457.08 1873.59 Q1454.91 1873.59 1452.59 1873.15 Q1450.3 1872.73 1447.84 1871.88 L1447.84 1867.36 Q1449.79 1868.5 1452.1 1869.07 Q1454.42 1869.65 1456.94 1869.65 Q1461.34 1869.65 1463.63 1867.92 Q1465.95 1866.18 1465.95 1862.87 Q1465.95 1859.82 1463.79 1858.1 Q1461.66 1856.37 1457.84 1856.37 L1453.82 1856.37 L1453.82 1852.52 L1458.03 1852.52 Q1461.48 1852.52 1463.31 1851.16 Q1465.14 1849.77 1465.14 1847.18 Q1465.14 1844.51 1463.24 1843.1 Q1461.36 1841.67 1457.84 1841.67 Q1455.92 1841.67 1453.72 1842.08 Q1451.53 1842.5 1448.89 1843.38 L1448.89 1839.21 Q1451.55 1838.47 1453.86 1838.1 Q1456.2 1837.73 1458.26 1837.73 Q1463.59 1837.73 1466.69 1840.16 Q1469.79 1842.57 1469.79 1846.69 Q1469.79 1849.56 1468.15 1851.55 Q1466.5 1853.52 1463.47 1854.28 Z\" fill=\"#000000\" fill-rule=\"nonzero\" fill-opacity=\"1\" /><path clip-path=\"url(#clip940)\" d=\"M1890.99 1842.43 L1879.18 1860.88 L1890.99 1860.88 L1890.99 1842.43 M1889.76 1838.36 L1895.64 1838.36 L1895.64 1860.88 L1900.57 1860.88 L1900.57 1864.77 L1895.64 1864.77 L1895.64 1872.92 L1890.99 1872.92 L1890.99 1864.77 L1875.39 1864.77 L1875.39 1860.26 L1889.76 1838.36 Z\" fill=\"#000000\" fill-rule=\"nonzero\" fill-opacity=\"1\" /><polyline clip-path=\"url(#clip942)\" style=\"stroke:#000000; stroke-linecap:round; stroke-linejoin:round; stroke-width:2; stroke-opacity:0.1; fill:none\" points=\"108.177,1384.96 1952.76,1384.96 \"/>\n",
       "<polyline clip-path=\"url(#clip942)\" style=\"stroke:#000000; stroke-linecap:round; stroke-linejoin:round; stroke-width:2; stroke-opacity:0.1; fill:none\" points=\"108.177,956.206 1952.76,956.206 \"/>\n",
       "<polyline clip-path=\"url(#clip942)\" style=\"stroke:#000000; stroke-linecap:round; stroke-linejoin:round; stroke-width:2; stroke-opacity:0.1; fill:none\" points=\"108.177,527.45 1952.76,527.45 \"/>\n",
       "<polyline clip-path=\"url(#clip942)\" style=\"stroke:#000000; stroke-linecap:round; stroke-linejoin:round; stroke-width:2; stroke-opacity:0.1; fill:none\" points=\"108.177,98.6948 1952.76,98.6948 \"/>\n",
       "<polyline clip-path=\"url(#clip940)\" style=\"stroke:#000000; stroke-linecap:round; stroke-linejoin:round; stroke-width:4; stroke-opacity:1; fill:none\" points=\"172.955,1865.17 172.955,47.2441 \"/>\n",
       "<polyline clip-path=\"url(#clip940)\" style=\"stroke:#000000; stroke-linecap:round; stroke-linejoin:round; stroke-width:4; stroke-opacity:1; fill:none\" points=\"154.058,1384.96 191.853,1384.96 \"/>\n",
       "<polyline clip-path=\"url(#clip940)\" style=\"stroke:#000000; stroke-linecap:round; stroke-linejoin:round; stroke-width:4; stroke-opacity:1; fill:none\" points=\"154.058,956.206 191.853,956.206 \"/>\n",
       "<polyline clip-path=\"url(#clip940)\" style=\"stroke:#000000; stroke-linecap:round; stroke-linejoin:round; stroke-width:4; stroke-opacity:1; fill:none\" points=\"154.058,527.45 191.853,527.45 \"/>\n",
       "<polyline clip-path=\"url(#clip940)\" style=\"stroke:#000000; stroke-linecap:round; stroke-linejoin:round; stroke-width:4; stroke-opacity:1; fill:none\" points=\"154.058,98.6948 191.853,98.6948 \"/>\n",
       "<path clip-path=\"url(#clip940)\" d=\"M123.048 1398.31 L130.687 1398.31 L130.687 1371.94 L122.377 1373.61 L122.377 1369.35 L130.641 1367.68 L135.316 1367.68 L135.316 1398.31 L142.955 1398.31 L142.955 1402.24 L123.048 1402.24 L123.048 1398.31 Z\" fill=\"#000000\" fill-rule=\"nonzero\" fill-opacity=\"1\" /><path clip-path=\"url(#clip940)\" d=\"M126.636 969.551 L142.955 969.551 L142.955 973.486 L121.011 973.486 L121.011 969.551 Q123.673 966.796 128.256 962.167 Q132.863 957.514 134.043 956.171 Q136.289 953.648 137.168 951.912 Q138.071 950.153 138.071 948.463 Q138.071 945.708 136.127 943.972 Q134.205 942.236 131.104 942.236 Q128.904 942.236 126.451 943 Q124.02 943.764 121.242 945.315 L121.242 940.593 Q124.067 939.458 126.52 938.88 Q128.974 938.301 131.011 938.301 Q136.381 938.301 139.576 940.986 Q142.77 943.671 142.77 948.162 Q142.77 950.292 141.96 952.213 Q141.173 954.111 139.066 956.704 Q138.488 957.375 135.386 960.593 Q132.284 963.787 126.636 969.551 Z\" fill=\"#000000\" fill-rule=\"nonzero\" fill-opacity=\"1\" /><path clip-path=\"url(#clip940)\" d=\"M135.826 526.096 Q139.182 526.814 141.057 529.082 Q142.955 531.351 142.955 534.684 Q142.955 539.8 139.437 542.601 Q135.918 545.402 129.437 545.402 Q127.261 545.402 124.946 544.962 Q122.655 544.545 120.201 543.689 L120.201 539.175 Q122.145 540.309 124.46 540.888 Q126.775 541.467 129.298 541.467 Q133.696 541.467 135.988 539.73 Q138.303 537.994 138.303 534.684 Q138.303 531.629 136.15 529.916 Q134.02 528.18 130.201 528.18 L126.173 528.18 L126.173 524.337 L130.386 524.337 Q133.835 524.337 135.664 522.971 Q137.492 521.582 137.492 518.99 Q137.492 516.328 135.594 514.916 Q133.719 513.481 130.201 513.481 Q128.279 513.481 126.08 513.897 Q123.881 514.314 121.242 515.193 L121.242 511.027 Q123.905 510.286 126.219 509.916 Q128.557 509.545 130.617 509.545 Q135.941 509.545 139.043 511.976 Q142.145 514.383 142.145 518.504 Q142.145 521.374 140.502 523.365 Q138.858 525.332 135.826 526.096 Z\" fill=\"#000000\" fill-rule=\"nonzero\" fill-opacity=\"1\" /><path clip-path=\"url(#clip940)\" d=\"M133.372 85.4888 L121.567 103.938 L133.372 103.938 L133.372 85.4888 M132.145 81.4148 L138.025 81.4148 L138.025 103.938 L142.955 103.938 L142.955 107.827 L138.025 107.827 L138.025 115.975 L133.372 115.975 L133.372 107.827 L117.77 107.827 L117.77 103.313 L132.145 81.4148 Z\" fill=\"#000000\" fill-rule=\"nonzero\" fill-opacity=\"1\" /><path clip-path=\"url(#clip942)\" d=\"M172.955 1813.72 L172.955 1813.72 L172.955 1813.72 L172.955 1813.72 L172.955 1813.72  Z\" fill=\"#3da44d\" fill-rule=\"evenodd\" fill-opacity=\"1\"/>\n",
       "<polyline clip-path=\"url(#clip942)\" style=\"stroke:#000000; stroke-linecap:round; stroke-linejoin:round; stroke-width:4; stroke-opacity:1; fill:none\" points=\"172.955,1813.72 172.955,1813.72 \"/>\n",
       "<path clip-path=\"url(#clip942)\" d=\"M172.955 1813.72 L1030.47 1813.72 L1030.47 527.45 L172.955 527.45 L172.955 1813.72  Z\" fill=\"#c271d2\" fill-rule=\"evenodd\" fill-opacity=\"1\"/>\n",
       "<polyline clip-path=\"url(#clip942)\" style=\"stroke:#000000; stroke-linecap:round; stroke-linejoin:round; stroke-width:4; stroke-opacity:1; fill:none\" points=\"172.955,1813.72 1030.47,1813.72 1030.47,527.45 172.955,527.45 172.955,1813.72 \"/>\n",
       "<path clip-path=\"url(#clip942)\" d=\"M172.955 527.45 L1887.98 527.45 L1887.98 98.6948 L172.955 98.6948 L172.955 527.45  Z\" fill=\"#ac8d18\" fill-rule=\"evenodd\" fill-opacity=\"1\"/>\n",
       "<polyline clip-path=\"url(#clip942)\" style=\"stroke:#000000; stroke-linecap:round; stroke-linejoin:round; stroke-width:4; stroke-opacity:1; fill:none\" points=\"172.955,527.45 1887.98,527.45 1887.98,98.6948 172.955,98.6948 172.955,527.45 \"/>\n",
       "<path clip-path=\"url(#clip942)\" d=\"M1030.47 1813.72 L1887.98 1813.72 L1887.98 956.206 L1030.47 956.206 L1030.47 1813.72  Z\" fill=\"#00a9ad\" fill-rule=\"evenodd\" fill-opacity=\"1\"/>\n",
       "<polyline clip-path=\"url(#clip942)\" style=\"stroke:#000000; stroke-linecap:round; stroke-linejoin:round; stroke-width:4; stroke-opacity:1; fill:none\" points=\"1030.47,1813.72 1887.98,1813.72 1887.98,956.206 1030.47,956.206 1030.47,1813.72 \"/>\n",
       "<circle clip-path=\"url(#clip942)\" cx=\"172.955\" cy=\"1813.72\" r=\"14.4\" fill=\"#ed5d92\" fill-rule=\"evenodd\" fill-opacity=\"1\" stroke=\"#000000\" stroke-opacity=\"1\" stroke-width=\"4\"/>\n",
       "<circle clip-path=\"url(#clip942)\" cx=\"172.955\" cy=\"1813.72\" r=\"14.4\" fill=\"#ed5d92\" fill-rule=\"evenodd\" fill-opacity=\"1\" stroke=\"#000000\" stroke-opacity=\"1\" stroke-width=\"4\"/>\n",
       "<circle clip-path=\"url(#clip942)\" cx=\"172.955\" cy=\"527.45\" r=\"14.4\" fill=\"#ed5d92\" fill-rule=\"evenodd\" fill-opacity=\"1\" stroke=\"#000000\" stroke-opacity=\"1\" stroke-width=\"4\"/>\n",
       "<circle clip-path=\"url(#clip942)\" cx=\"1030.47\" cy=\"1813.72\" r=\"14.4\" fill=\"#ed5d92\" fill-rule=\"evenodd\" fill-opacity=\"1\" stroke=\"#000000\" stroke-opacity=\"1\" stroke-width=\"4\"/>\n",
       "</svg>\n"
      ],
      "text/html": [
       "<?xml version=\"1.0\" encoding=\"utf-8\"?>\n",
       "<svg xmlns=\"http://www.w3.org/2000/svg\" xmlns:xlink=\"http://www.w3.org/1999/xlink\" width=\"500\" height=\"500\" viewBox=\"0 0 2000 2000\">\n",
       "<defs>\n",
       "  <clipPath id=\"clip990\">\n",
       "    <rect x=\"0\" y=\"0\" width=\"2000\" height=\"2000\"/>\n",
       "  </clipPath>\n",
       "</defs>\n",
       "<path clip-path=\"url(#clip990)\" d=\"M0 2000 L2000 2000 L2000 0 L0 0  Z\" fill=\"#ffffff\" fill-rule=\"evenodd\" fill-opacity=\"1\"/>\n",
       "<defs>\n",
       "  <clipPath id=\"clip991\">\n",
       "    <rect x=\"400\" y=\"200\" width=\"1401\" height=\"1401\"/>\n",
       "  </clipPath>\n",
       "</defs>\n",
       "<path clip-path=\"url(#clip990)\" d=\"M108.177 1865.17 L1952.76 1865.17 L1952.76 47.2441 L108.177 47.2441  Z\" fill=\"#ffffff\" fill-rule=\"evenodd\" fill-opacity=\"1\"/>\n",
       "<defs>\n",
       "  <clipPath id=\"clip992\">\n",
       "    <rect x=\"108\" y=\"47\" width=\"1846\" height=\"1819\"/>\n",
       "  </clipPath>\n",
       "</defs>\n",
       "<polyline clip-path=\"url(#clip992)\" style=\"stroke:#000000; stroke-linecap:round; stroke-linejoin:round; stroke-width:2; stroke-opacity:0.1; fill:none\" points=\"601.711,1865.17 601.711,47.2441 \"/>\n",
       "<polyline clip-path=\"url(#clip992)\" style=\"stroke:#000000; stroke-linecap:round; stroke-linejoin:round; stroke-width:2; stroke-opacity:0.1; fill:none\" points=\"1030.47,1865.17 1030.47,47.2441 \"/>\n",
       "<polyline clip-path=\"url(#clip992)\" style=\"stroke:#000000; stroke-linecap:round; stroke-linejoin:round; stroke-width:2; stroke-opacity:0.1; fill:none\" points=\"1459.22,1865.17 1459.22,47.2441 \"/>\n",
       "<polyline clip-path=\"url(#clip992)\" style=\"stroke:#000000; stroke-linecap:round; stroke-linejoin:round; stroke-width:2; stroke-opacity:0.1; fill:none\" points=\"1887.98,1865.17 1887.98,47.2441 \"/>\n",
       "<polyline clip-path=\"url(#clip990)\" style=\"stroke:#000000; stroke-linecap:round; stroke-linejoin:round; stroke-width:4; stroke-opacity:1; fill:none\" points=\"108.177,1813.72 1952.76,1813.72 \"/>\n",
       "<polyline clip-path=\"url(#clip990)\" style=\"stroke:#000000; stroke-linecap:round; stroke-linejoin:round; stroke-width:4; stroke-opacity:1; fill:none\" points=\"601.711,1832.61 601.711,1794.82 \"/>\n",
       "<polyline clip-path=\"url(#clip990)\" style=\"stroke:#000000; stroke-linecap:round; stroke-linejoin:round; stroke-width:4; stroke-opacity:1; fill:none\" points=\"1030.47,1832.61 1030.47,1794.82 \"/>\n",
       "<polyline clip-path=\"url(#clip990)\" style=\"stroke:#000000; stroke-linecap:round; stroke-linejoin:round; stroke-width:4; stroke-opacity:1; fill:none\" points=\"1459.22,1832.61 1459.22,1794.82 \"/>\n",
       "<polyline clip-path=\"url(#clip990)\" style=\"stroke:#000000; stroke-linecap:round; stroke-linejoin:round; stroke-width:4; stroke-opacity:1; fill:none\" points=\"1887.98,1832.61 1887.98,1794.82 \"/>\n",
       "<path clip-path=\"url(#clip990)\" d=\"M592.093 1868.98 L599.732 1868.98 L599.732 1842.62 L591.422 1844.28 L591.422 1840.02 L599.685 1838.36 L604.361 1838.36 L604.361 1868.98 L612 1868.98 L612 1872.92 L592.093 1872.92 L592.093 1868.98 Z\" fill=\"#000000\" fill-rule=\"nonzero\" fill-opacity=\"1\" /><path clip-path=\"url(#clip990)\" d=\"M1025.12 1868.98 L1041.44 1868.98 L1041.44 1872.92 L1019.49 1872.92 L1019.49 1868.98 Q1022.16 1866.23 1026.74 1861.6 Q1031.35 1856.95 1032.53 1855.6 Q1034.77 1853.08 1035.65 1851.34 Q1036.55 1849.58 1036.55 1847.89 Q1036.55 1845.14 1034.61 1843.4 Q1032.69 1841.67 1029.59 1841.67 Q1027.39 1841.67 1024.93 1842.43 Q1022.5 1843.2 1019.73 1844.75 L1019.73 1840.02 Q1022.55 1838.89 1025 1838.31 Q1027.46 1837.73 1029.49 1837.73 Q1034.86 1837.73 1038.06 1840.42 Q1041.25 1843.1 1041.25 1847.59 Q1041.25 1849.72 1040.44 1851.64 Q1039.66 1853.54 1037.55 1856.13 Q1036.97 1856.81 1033.87 1860.02 Q1030.77 1863.22 1025.12 1868.98 Z\" fill=\"#000000\" fill-rule=\"nonzero\" fill-opacity=\"1\" /><path clip-path=\"url(#clip990)\" d=\"M1463.47 1854.28 Q1466.83 1855 1468.7 1857.27 Q1470.6 1859.54 1470.6 1862.87 Q1470.6 1867.99 1467.08 1870.79 Q1463.56 1873.59 1457.08 1873.59 Q1454.91 1873.59 1452.59 1873.15 Q1450.3 1872.73 1447.84 1871.88 L1447.84 1867.36 Q1449.79 1868.5 1452.1 1869.07 Q1454.42 1869.65 1456.94 1869.65 Q1461.34 1869.65 1463.63 1867.92 Q1465.95 1866.18 1465.95 1862.87 Q1465.95 1859.82 1463.79 1858.1 Q1461.66 1856.37 1457.84 1856.37 L1453.82 1856.37 L1453.82 1852.52 L1458.03 1852.52 Q1461.48 1852.52 1463.31 1851.16 Q1465.14 1849.77 1465.14 1847.18 Q1465.14 1844.51 1463.24 1843.1 Q1461.36 1841.67 1457.84 1841.67 Q1455.92 1841.67 1453.72 1842.08 Q1451.53 1842.5 1448.89 1843.38 L1448.89 1839.21 Q1451.55 1838.47 1453.86 1838.1 Q1456.2 1837.73 1458.26 1837.73 Q1463.59 1837.73 1466.69 1840.16 Q1469.79 1842.57 1469.79 1846.69 Q1469.79 1849.56 1468.15 1851.55 Q1466.5 1853.52 1463.47 1854.28 Z\" fill=\"#000000\" fill-rule=\"nonzero\" fill-opacity=\"1\" /><path clip-path=\"url(#clip990)\" d=\"M1890.99 1842.43 L1879.18 1860.88 L1890.99 1860.88 L1890.99 1842.43 M1889.76 1838.36 L1895.64 1838.36 L1895.64 1860.88 L1900.57 1860.88 L1900.57 1864.77 L1895.64 1864.77 L1895.64 1872.92 L1890.99 1872.92 L1890.99 1864.77 L1875.39 1864.77 L1875.39 1860.26 L1889.76 1838.36 Z\" fill=\"#000000\" fill-rule=\"nonzero\" fill-opacity=\"1\" /><polyline clip-path=\"url(#clip992)\" style=\"stroke:#000000; stroke-linecap:round; stroke-linejoin:round; stroke-width:2; stroke-opacity:0.1; fill:none\" points=\"108.177,1384.96 1952.76,1384.96 \"/>\n",
       "<polyline clip-path=\"url(#clip992)\" style=\"stroke:#000000; stroke-linecap:round; stroke-linejoin:round; stroke-width:2; stroke-opacity:0.1; fill:none\" points=\"108.177,956.206 1952.76,956.206 \"/>\n",
       "<polyline clip-path=\"url(#clip992)\" style=\"stroke:#000000; stroke-linecap:round; stroke-linejoin:round; stroke-width:2; stroke-opacity:0.1; fill:none\" points=\"108.177,527.45 1952.76,527.45 \"/>\n",
       "<polyline clip-path=\"url(#clip992)\" style=\"stroke:#000000; stroke-linecap:round; stroke-linejoin:round; stroke-width:2; stroke-opacity:0.1; fill:none\" points=\"108.177,98.6948 1952.76,98.6948 \"/>\n",
       "<polyline clip-path=\"url(#clip990)\" style=\"stroke:#000000; stroke-linecap:round; stroke-linejoin:round; stroke-width:4; stroke-opacity:1; fill:none\" points=\"172.955,1865.17 172.955,47.2441 \"/>\n",
       "<polyline clip-path=\"url(#clip990)\" style=\"stroke:#000000; stroke-linecap:round; stroke-linejoin:round; stroke-width:4; stroke-opacity:1; fill:none\" points=\"154.058,1384.96 191.853,1384.96 \"/>\n",
       "<polyline clip-path=\"url(#clip990)\" style=\"stroke:#000000; stroke-linecap:round; stroke-linejoin:round; stroke-width:4; stroke-opacity:1; fill:none\" points=\"154.058,956.206 191.853,956.206 \"/>\n",
       "<polyline clip-path=\"url(#clip990)\" style=\"stroke:#000000; stroke-linecap:round; stroke-linejoin:round; stroke-width:4; stroke-opacity:1; fill:none\" points=\"154.058,527.45 191.853,527.45 \"/>\n",
       "<polyline clip-path=\"url(#clip990)\" style=\"stroke:#000000; stroke-linecap:round; stroke-linejoin:round; stroke-width:4; stroke-opacity:1; fill:none\" points=\"154.058,98.6948 191.853,98.6948 \"/>\n",
       "<path clip-path=\"url(#clip990)\" d=\"M123.048 1398.31 L130.687 1398.31 L130.687 1371.94 L122.377 1373.61 L122.377 1369.35 L130.641 1367.68 L135.316 1367.68 L135.316 1398.31 L142.955 1398.31 L142.955 1402.24 L123.048 1402.24 L123.048 1398.31 Z\" fill=\"#000000\" fill-rule=\"nonzero\" fill-opacity=\"1\" /><path clip-path=\"url(#clip990)\" d=\"M126.636 969.551 L142.955 969.551 L142.955 973.486 L121.011 973.486 L121.011 969.551 Q123.673 966.796 128.256 962.167 Q132.863 957.514 134.043 956.171 Q136.289 953.648 137.168 951.912 Q138.071 950.153 138.071 948.463 Q138.071 945.708 136.127 943.972 Q134.205 942.236 131.104 942.236 Q128.904 942.236 126.451 943 Q124.02 943.764 121.242 945.315 L121.242 940.593 Q124.067 939.458 126.52 938.88 Q128.974 938.301 131.011 938.301 Q136.381 938.301 139.576 940.986 Q142.77 943.671 142.77 948.162 Q142.77 950.292 141.96 952.213 Q141.173 954.111 139.066 956.704 Q138.488 957.375 135.386 960.593 Q132.284 963.787 126.636 969.551 Z\" fill=\"#000000\" fill-rule=\"nonzero\" fill-opacity=\"1\" /><path clip-path=\"url(#clip990)\" d=\"M135.826 526.096 Q139.182 526.814 141.057 529.082 Q142.955 531.351 142.955 534.684 Q142.955 539.8 139.437 542.601 Q135.918 545.402 129.437 545.402 Q127.261 545.402 124.946 544.962 Q122.655 544.545 120.201 543.689 L120.201 539.175 Q122.145 540.309 124.46 540.888 Q126.775 541.467 129.298 541.467 Q133.696 541.467 135.988 539.73 Q138.303 537.994 138.303 534.684 Q138.303 531.629 136.15 529.916 Q134.02 528.18 130.201 528.18 L126.173 528.18 L126.173 524.337 L130.386 524.337 Q133.835 524.337 135.664 522.971 Q137.492 521.582 137.492 518.99 Q137.492 516.328 135.594 514.916 Q133.719 513.481 130.201 513.481 Q128.279 513.481 126.08 513.897 Q123.881 514.314 121.242 515.193 L121.242 511.027 Q123.905 510.286 126.219 509.916 Q128.557 509.545 130.617 509.545 Q135.941 509.545 139.043 511.976 Q142.145 514.383 142.145 518.504 Q142.145 521.374 140.502 523.365 Q138.858 525.332 135.826 526.096 Z\" fill=\"#000000\" fill-rule=\"nonzero\" fill-opacity=\"1\" /><path clip-path=\"url(#clip990)\" d=\"M133.372 85.4888 L121.567 103.938 L133.372 103.938 L133.372 85.4888 M132.145 81.4148 L138.025 81.4148 L138.025 103.938 L142.955 103.938 L142.955 107.827 L138.025 107.827 L138.025 115.975 L133.372 115.975 L133.372 107.827 L117.77 107.827 L117.77 103.313 L132.145 81.4148 Z\" fill=\"#000000\" fill-rule=\"nonzero\" fill-opacity=\"1\" /><path clip-path=\"url(#clip992)\" d=\"M172.955 1813.72 L172.955 1813.72 L172.955 1813.72 L172.955 1813.72 L172.955 1813.72  Z\" fill=\"#3da44d\" fill-rule=\"evenodd\" fill-opacity=\"1\"/>\n",
       "<polyline clip-path=\"url(#clip992)\" style=\"stroke:#000000; stroke-linecap:round; stroke-linejoin:round; stroke-width:4; stroke-opacity:1; fill:none\" points=\"172.955,1813.72 172.955,1813.72 \"/>\n",
       "<path clip-path=\"url(#clip992)\" d=\"M172.955 1813.72 L1030.47 1813.72 L1030.47 527.45 L172.955 527.45 L172.955 1813.72  Z\" fill=\"#c271d2\" fill-rule=\"evenodd\" fill-opacity=\"1\"/>\n",
       "<polyline clip-path=\"url(#clip992)\" style=\"stroke:#000000; stroke-linecap:round; stroke-linejoin:round; stroke-width:4; stroke-opacity:1; fill:none\" points=\"172.955,1813.72 1030.47,1813.72 1030.47,527.45 172.955,527.45 172.955,1813.72 \"/>\n",
       "<path clip-path=\"url(#clip992)\" d=\"M172.955 527.45 L1887.98 527.45 L1887.98 98.6948 L172.955 98.6948 L172.955 527.45  Z\" fill=\"#ac8d18\" fill-rule=\"evenodd\" fill-opacity=\"1\"/>\n",
       "<polyline clip-path=\"url(#clip992)\" style=\"stroke:#000000; stroke-linecap:round; stroke-linejoin:round; stroke-width:4; stroke-opacity:1; fill:none\" points=\"172.955,527.45 1887.98,527.45 1887.98,98.6948 172.955,98.6948 172.955,527.45 \"/>\n",
       "<path clip-path=\"url(#clip992)\" d=\"M1030.47 1813.72 L1887.98 1813.72 L1887.98 956.206 L1030.47 956.206 L1030.47 1813.72  Z\" fill=\"#00a9ad\" fill-rule=\"evenodd\" fill-opacity=\"1\"/>\n",
       "<polyline clip-path=\"url(#clip992)\" style=\"stroke:#000000; stroke-linecap:round; stroke-linejoin:round; stroke-width:4; stroke-opacity:1; fill:none\" points=\"1030.47,1813.72 1887.98,1813.72 1887.98,956.206 1030.47,956.206 1030.47,1813.72 \"/>\n",
       "<circle clip-path=\"url(#clip992)\" cx=\"172.955\" cy=\"1813.72\" r=\"14.4\" fill=\"#ed5d92\" fill-rule=\"evenodd\" fill-opacity=\"1\" stroke=\"#000000\" stroke-opacity=\"1\" stroke-width=\"4\"/>\n",
       "<circle clip-path=\"url(#clip992)\" cx=\"172.955\" cy=\"1813.72\" r=\"14.4\" fill=\"#ed5d92\" fill-rule=\"evenodd\" fill-opacity=\"1\" stroke=\"#000000\" stroke-opacity=\"1\" stroke-width=\"4\"/>\n",
       "<circle clip-path=\"url(#clip992)\" cx=\"172.955\" cy=\"527.45\" r=\"14.4\" fill=\"#ed5d92\" fill-rule=\"evenodd\" fill-opacity=\"1\" stroke=\"#000000\" stroke-opacity=\"1\" stroke-width=\"4\"/>\n",
       "<circle clip-path=\"url(#clip992)\" cx=\"1030.47\" cy=\"1813.72\" r=\"14.4\" fill=\"#ed5d92\" fill-rule=\"evenodd\" fill-opacity=\"1\" stroke=\"#000000\" stroke-opacity=\"1\" stroke-width=\"4\"/>\n",
       "</svg>\n"
      ]
     },
     "execution_count": 1015,
     "metadata": {},
     "output_type": "execute_result"
    }
   ],
   "source": [
    "retangulos = C[:,1:2].*value.(δ)\n",
    "posicoes = [value.(x) value.(y)]\n",
    "plot([0 4],[4 4], legend=false, aspect_ratio=1, size=(500,500), ticks=0:4)\n",
    "for n = 1:size(retangulos)[1]\n",
    "    plot!(Shape(posicoes[n,1] .+ [0, retangulos[n,1], retangulos[n,1], 0], posicoes[n,2] .+[0, 0, retangulos[n,2], retangulos[n,2]]))\n",
    "end\n",
    "scatter!(value.(x),value.(y), legend=false, framestyle= :origin, aspect_ratio=1)"
   ]
  },
  {
   "cell_type": "code",
   "execution_count": 1016,
   "metadata": {},
   "outputs": [
    {
     "data": {
      "text/plain": [
       "A JuMP Model\n",
       "Feasibility problem with:\n",
       "Variables: 0\n",
       "Model mode: AUTOMATIC\n",
       "CachingOptimizer state: EMPTY_OPTIMIZER\n",
       "Solver name: HiGHS"
      ]
     },
     "execution_count": 1016,
     "metadata": {},
     "output_type": "execute_result"
    }
   ],
   "source": [
    "empty!(model)"
   ]
  }
 ],
 "metadata": {
  "kernelspec": {
   "display_name": "Julia 1.9.3",
   "language": "julia",
   "name": "julia-1.9"
  },
  "language_info": {
   "file_extension": ".jl",
   "mimetype": "application/julia",
   "name": "julia",
   "version": "1.9.3"
  }
 },
 "nbformat": 4,
 "nbformat_minor": 2
}
