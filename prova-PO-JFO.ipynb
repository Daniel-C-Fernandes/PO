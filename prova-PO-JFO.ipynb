{
 "cells": [
  {
   "cell_type": "markdown",
   "metadata": {},
   "source": [
    "# Implementação\n",
    "\n",
    "## Grupo: \n",
    "\n",
    "Samara\n",
    "\n",
    "Giovana\n",
    "\n",
    "Daniel\n",
    "\n",
    "<hr>\n",
    "\n",
    "A DURAÇO fabrica chapas retangulares de aços variados, com comprimento $L$ e largura $W$, que depois corta em retângulos menores, de comprimento $l_i$ e largura $w_i$, para satisfazer às encomendas de clientes. A saída da laminagem um engenheiro consulta as encomendas pendentes no sistema e decide quais retângulos serão cortados naquela chapa, isso é, é definido o padrão de corte para aquela chapa. \n",
    "\n",
    "Cada retângulo encomendado tem um valor de venda $v_i$ e o objetivo é maximizar o valor extraído de cada chapa, ou seja, o valor dos retângulos cortados a partir da chapa. \n",
    "\n",
    "Devido às características do aço variarem com a dirção, os retângulos não podem ser rotacionados e têm de ser cortados segundo a orientação com que foram encomendados, isto é, a dimensão $l_i$ ao longo de $L$ e a dimensão $w_i$ ao longo de $W$. \n",
    "\n",
    "Assuma que o comprimento da chapa é sempre maior ou igual à largura da chapa, ou seja, $L \\geq W$."
   ]
  },
  {
   "cell_type": "markdown",
   "metadata": {},
   "source": [
    "<hr>\n",
    "\n",
    "Considere o seguinte modelo de programação linear mista para este problema:\n",
    "\n",
    "Dados:\n",
    "\n",
    "$L$ – Comprimento da chapa.\n",
    "\n",
    "$W$ – Largura da chapa.\n",
    "\n",
    "$m$ – Número de retângulos encomendados.\n",
    "\n",
    "$l_i$ – Comprimento do retângulo $i$ ($i \\in \\{1, \\dots, m\\}$).\n",
    "\n",
    "$w_i$ – Largura do retângulo $i$ ($i \\in \\{1, \\dots, m\\}$).\n",
    "\n",
    "$v_i$ – Valor do retângulo $i$ ($i \\in \\{1, \\dots, m\\}$).\n",
    "\n",
    "<hr>\n",
    "\n",
    "## Variáveis de decisão:\n",
    "\n",
    "$ \\delta_i \\in \\{0, 1\\}$ – O retângulo $i$ ($i \\in \\{1, \\dots, m$}) é selecionado, ou não, para fazer parte do padrão de corte.\n",
    "\n",
    "$x_i \\geq 0$ – Coordenada $x$ de posicionamento do canto inferior esquerdo do retângulo $i$.\n",
    "\n",
    "$y_i \\geq 0$ – Coordenada $y$ de posicionamento do canto inferior esquerdo do retângulo $i$.\n",
    "\n",
    "\n",
    "Nota: Considere que a origem do sistema de eixos das coordenadas está no canto inferior esquerdo da chapa. Por exemplo, no exemplo apresentado no enunciado, o retângulo de dimensões (0, 65×1, 90) está posicionado nas coordenadas x = 2, 00 ; y = 0, 00.\n",
    "\n",
    "\n",
    "## Variáveis auxiliares:\n",
    "\n",
    "$\\gamma_{ijk} \\in \\{0, 1\\}$ – $i \\in \\{1, \\dots, m\\}$, $j \\in \\{1, \\dots, m\\}$ ∧ $j\\neq i$, $k \\in \\{1, \\dots, 4\\}$"
   ]
  },
  {
   "cell_type": "markdown",
   "metadata": {},
   "source": [
    "<hr>\n",
    "\n",
    "## Função objetivo\n",
    "\n",
    "\\begin{equation*}\n",
    "    \\text{Máx }\\sum_{i=1}^m v_i\\delta_i\n",
    "\\end{equation*}\n",
    "\n",
    "Sujeito a:\n",
    "\n",
    "\\begin{equation*}\n",
    "    x_i-x_j+l_i\\leq (1-\\gamma_{ij1})M \\;\\;\\;\\;\\;\\;\\;\\;\\;\\;\\;\\;\\text{ (2)}\n",
    "\\end{equation*}\n",
    "\n",
    "\\begin{equation*}\n",
    "    -x_i+x_j+l_j\\leq (1-\\gamma_{ij2})M \\;\\;\\;\\;\\;\\;\\;\\;\\;\\;\\;\\;\\text{ (3)}\n",
    "\\end{equation*}\n",
    "\n",
    "\\begin{equation*}\n",
    "    y_i-y_j+w_i\\leq (1-\\gamma_{ij3})M \\;\\;\\;\\;\\;\\;\\;\\;\\;\\;\\;\\;\\text{ (4)}\n",
    "\\end{equation*}\n",
    "\n",
    "\\begin{equation*}\n",
    "    -y_i-y_j+w_j\\leq (1-\\gamma_{ij4})M \\;\\;\\;\\;\\;\\;\\;\\;\\;\\;\\;\\;\\text{ (5)}\n",
    "\\end{equation*}\n",
    "\n",
    "\\begin{equation*}\n",
    "    \\sum_{k=1}^4\\gamma_{ijk}\\geq \\delta_i + \\delta_j -1 \\;\\;\\;\\;\\;\\;\\;\\;\\;\\;\\;\\;\\text{ (2)}\n",
    "\\end{equation*}\n",
    "\n",
    "\\begin{equation*}\n",
    "    x_i\\leq L-l_i\\;\\;\\;\\;\\;\\;\\;\\;\\;\\;\\;\\;\\text{ (7)}\n",
    "\\end{equation*}\n",
    "\n",
    "\\begin{equation*}\n",
    "    y_i\\leq W-w_i \\;\\;\\;\\;\\;\\;\\;\\;\\;\\;\\;\\;\\text{ (8)}\n",
    "\\end{equation*}\n",
    "\n",
    "\\begin{equation*}\n",
    "    x_i,y_i\\geq 0\\;\\;\\;\\;\\;\\;\\;\\;\\;\\;\\;\\;\\text{ (9)}\n",
    "\\end{equation*}\n",
    "\n",
    "\\begin{equation*}\n",
    "    \\delta_i\\in\\{0,1\\}\\;\\;\\;\\;\\;\\;\\;\\;\\;\\;\\;\\;\\text{ (10)}\n",
    "\\end{equation*}\n",
    "\n",
    "\\begin{equation*}\n",
    "    \\gamma_{ijk}\\in\\{0,1\\}\\;\\;\\;\\;\\;\\;\\;\\;\\;\\;\\;\\;\\text{ (11)}\n",
    "\\end{equation*}\n",
    "\n",
    "\\begin{equation*}\n",
    "    M \\rightarrow \\infty \\;\\;\\;\\;\\;\\;\\;\\;\\;\\;\\;\\;\\text{ (12)}\n",
    "\\end{equation*}"
   ]
  },
  {
   "cell_type": "markdown",
   "metadata": {},
   "source": [
    "<hr>\n",
    "\n",
    "### Exemplo concreto:\n",
    "\n",
    "<img title=\"\" src=\"https://raw.githubusercontent.com/Daniel-C-Fernandes/PO/main/chapas.png\" alt=\"transporte\" style=\"zoom:20%\">\n",
    "\n",
    "<hr>\n",
    "\n",
    "Modelo computacional:"
   ]
  },
  {
   "cell_type": "code",
   "execution_count": 36,
   "metadata": {},
   "outputs": [
    {
     "data": {
      "text/plain": [
       "4×3 Matrix{Int64}:\n",
       " 3  2  4\n",
       " 2  3  5\n",
       " 4  1  6\n",
       " 2  2  3"
      ]
     },
     "execution_count": 36,
     "metadata": {},
     "output_type": "execute_result"
    }
   ],
   "source": [
    "# Dados:\n",
    "\n",
    "# M grande\n",
    "M = 100\n",
    "\n",
    "# Chapa padrão\n",
    "L = 4\n",
    "W = 4\n",
    "\n",
    "# Cortes: l_i, w_i, v_i\n",
    "C = [\n",
    "    3 2 4;\n",
    "    2 3 5;\n",
    "    4 1 6;\n",
    "    2 2 3\n",
    "]"
   ]
  },
  {
   "cell_type": "code",
   "execution_count": 37,
   "metadata": {},
   "outputs": [
    {
     "data": {
      "text/plain": [
       "4×4×4 Array{VariableRef, 3}:\n",
       "[:, :, 1] =\n",
       " γ[1,1,1]  γ[1,2,1]  γ[1,3,1]  γ[1,4,1]\n",
       " γ[2,1,1]  γ[2,2,1]  γ[2,3,1]  γ[2,4,1]\n",
       " γ[3,1,1]  γ[3,2,1]  γ[3,3,1]  γ[3,4,1]\n",
       " γ[4,1,1]  γ[4,2,1]  γ[4,3,1]  γ[4,4,1]\n",
       "\n",
       "[:, :, 2] =\n",
       " γ[1,1,2]  γ[1,2,2]  γ[1,3,2]  γ[1,4,2]\n",
       " γ[2,1,2]  γ[2,2,2]  γ[2,3,2]  γ[2,4,2]\n",
       " γ[3,1,2]  γ[3,2,2]  γ[3,3,2]  γ[3,4,2]\n",
       " γ[4,1,2]  γ[4,2,2]  γ[4,3,2]  γ[4,4,2]\n",
       "\n",
       "[:, :, 3] =\n",
       " γ[1,1,3]  γ[1,2,3]  γ[1,3,3]  γ[1,4,3]\n",
       " γ[2,1,3]  γ[2,2,3]  γ[2,3,3]  γ[2,4,3]\n",
       " γ[3,1,3]  γ[3,2,3]  γ[3,3,3]  γ[3,4,3]\n",
       " γ[4,1,3]  γ[4,2,3]  γ[4,3,3]  γ[4,4,3]\n",
       "\n",
       "[:, :, 4] =\n",
       " γ[1,1,4]  γ[1,2,4]  γ[1,3,4]  γ[1,4,4]\n",
       " γ[2,1,4]  γ[2,2,4]  γ[2,3,4]  γ[2,4,4]\n",
       " γ[3,1,4]  γ[3,2,4]  γ[3,3,4]  γ[3,4,4]\n",
       " γ[4,1,4]  γ[4,2,4]  γ[4,3,4]  γ[4,4,4]"
      ]
     },
     "execution_count": 37,
     "metadata": {},
     "output_type": "execute_result"
    }
   ],
   "source": [
    "using HiGHS, JuMP\n",
    "model = Model(HiGHS.Optimizer)\n",
    "\n",
    "# Coordenadas x e y\n",
    "@variable(model, x[i=1:4] >= 0)\n",
    "@variable(model, y[i=1:4] >= 0)\n",
    "@variable(model, δ[i=1:4] >= 0, Bin)\n",
    "\n",
    "# Variáveis auxiliares\n",
    "@variable(model, γ[i=1:4,j=1:4,k=1:4] >= 0, Bin)"
   ]
  },
  {
   "cell_type": "code",
   "execution_count": 38,
   "metadata": {},
   "outputs": [
    {
     "data": {
      "text/latex": [
       "$ 4 δ_{1} + 5 δ_{2} + 6 δ_{3} + 3 δ_{4} $"
      ],
      "text/plain": [
       "4 δ[1] + 5 δ[2] + 6 δ[3] + 3 δ[4]"
      ]
     },
     "execution_count": 38,
     "metadata": {},
     "output_type": "execute_result"
    }
   ],
   "source": [
    "@objective(model, Max, C[:,3]'δ)"
   ]
  },
  {
   "cell_type": "code",
   "execution_count": 39,
   "metadata": {},
   "outputs": [
    {
     "data": {
      "text/plain": [
       "4-element Vector{ConstraintRef{Model, MathOptInterface.ConstraintIndex{MathOptInterface.ScalarAffineFunction{Float64}, MathOptInterface.LessThan{Float64}}, ScalarShape}}:\n",
       " restr2[1] : 3 x[1] - x[2] - x[3] - x[4] + 100 γ[1,2,1] + 100 γ[1,3,1] + 100 γ[1,4,1] ≤ 291\n",
       " restr2[2] : -x[1] + 3 x[2] - x[3] - x[4] + 100 γ[2,1,1] + 100 γ[2,3,1] + 100 γ[2,4,1] ≤ 294\n",
       " restr2[3] : -x[1] - x[2] + 3 x[3] - x[4] + 100 γ[3,1,1] + 100 γ[3,2,1] + 100 γ[3,4,1] ≤ 288\n",
       " restr2[4] : -x[1] - x[2] - x[3] + 3 x[4] + 100 γ[4,1,1] + 100 γ[4,2,1] + 100 γ[4,3,1] ≤ 294"
      ]
     },
     "execution_count": 39,
     "metadata": {},
     "output_type": "execute_result"
    }
   ],
   "source": [
    "# Restrição (2)\n",
    "@constraint(model, restr2[i=1:4],sum(x[i]-x[j]+C[i,1]-(1-γ[i,j,1])*M for j=1:4 if i!=j)<=0)"
   ]
  },
  {
   "cell_type": "code",
   "execution_count": 40,
   "metadata": {},
   "outputs": [
    {
     "data": {
      "text/plain": [
       "4-element Vector{ConstraintRef{Model, MathOptInterface.ConstraintIndex{MathOptInterface.ScalarAffineFunction{Float64}, MathOptInterface.LessThan{Float64}}, ScalarShape}}:\n",
       " restr3[1] : -3 x[1] + x[2] + x[3] + x[4] + 100 γ[1,2,2] + 100 γ[1,3,2] + 100 γ[1,4,2] ≤ 291\n",
       " restr3[2] : x[1] - 3 x[2] + x[3] + x[4] + 100 γ[2,1,2] + 100 γ[2,3,2] + 100 γ[2,4,2] ≤ 294\n",
       " restr3[3] : x[1] + x[2] - 3 x[3] + x[4] + 100 γ[3,1,2] + 100 γ[3,2,2] + 100 γ[3,4,2] ≤ 288\n",
       " restr3[4] : x[1] + x[2] + x[3] - 3 x[4] + 100 γ[4,1,2] + 100 γ[4,2,2] + 100 γ[4,3,2] ≤ 294"
      ]
     },
     "execution_count": 40,
     "metadata": {},
     "output_type": "execute_result"
    }
   ],
   "source": [
    "# Restrição (3)\n",
    "@constraint(model, restr3[i=1:4],sum(-x[i]+x[j]+C[i,1]-(1-γ[i,j,2])*M for j=1:4 if i!=j)<=0)"
   ]
  },
  {
   "cell_type": "code",
   "execution_count": 41,
   "metadata": {},
   "outputs": [
    {
     "ename": "LoadError",
     "evalue": "LoadError: At In[41]:2: `@constraint(model, restr[j = 1:(size(A))[1]])`: No constraint expression was given.\nin expression starting at In[41]:2",
     "output_type": "error",
     "traceback": [
      "LoadError: At In[41]:2: `@constraint(model, restr[j = 1:(size(A))[1]])`: No constraint expression was given.\nin expression starting at In[41]:2",
      "",
      "Stacktrace:",
      " [1] error(::String, ::String)",
      "   @ Base ./error.jl:44",
      " [2] _macro_error(macroname::Symbol, args::Tuple{Symbol, Expr}, source::LineNumberNode, str::String)",
      "   @ JuMP ~/.julia/packages/JuMP/OUdu2/src/macros.jl:2223",
      " [3] (::JuMP.var\"#_error#96\"{Tuple{Symbol, Expr}, Symbol, LineNumberNode})(str::String)",
      "   @ JuMP ~/.julia/packages/JuMP/OUdu2/src/macros.jl:1248",
      " [4] _constraint_macro(args::Tuple{Symbol, Expr}, macro_name::Symbol, parsefun::typeof(parse_constraint), source::LineNumberNode)",
      "   @ JuMP ~/.julia/packages/JuMP/OUdu2/src/macros.jl:1281",
      " [5] var\"@constraint\"(__source__::LineNumberNode, __module__::Module, args::Vararg{Any})",
      "   @ JuMP ~/.julia/packages/JuMP/OUdu2/src/macros.jl:1438"
     ]
    }
   ],
   "source": [
    "# Restrição (2)\n",
    "@constraint(model, restr[j=1:size(A)[1]], )"
   ]
  },
  {
   "cell_type": "code",
   "execution_count": null,
   "metadata": {},
   "outputs": [],
   "source": [
    "# Restrição (2)\n",
    "@constraint(model, restr[j=1:size(A)[1]], )"
   ]
  },
  {
   "cell_type": "code",
   "execution_count": null,
   "metadata": {},
   "outputs": [],
   "source": [
    "# Restrição (2)\n",
    "@constraint(model, restr[j=1:size(A)[1]], )"
   ]
  },
  {
   "cell_type": "code",
   "execution_count": null,
   "metadata": {},
   "outputs": [],
   "source": [
    "# Restrição (2)\n",
    "@constraint(model, restr[j=1:size(A)[1]], )"
   ]
  },
  {
   "cell_type": "code",
   "execution_count": null,
   "metadata": {},
   "outputs": [],
   "source": [
    "# Restrição (2)\n",
    "@constraint(model, restr[j=1:size(A)[1]], )"
   ]
  },
  {
   "cell_type": "code",
   "execution_count": null,
   "metadata": {},
   "outputs": [
    {
     "name": "stdout",
     "output_type": "stream",
     "text": [
      "Max 4 δ[1] + 5 δ[2] + 6 δ[3] + 3 δ[4]\n",
      "Subject to\n",
      " restr2[1,1] : 100 γ[1,1,1] ≤ 97\n",
      " restr2[2,1] : -x[1] + x[2] + 100 γ[2,1,1] ≤ 98\n",
      " restr2[3,1] : -x[1] + x[3] + 100 γ[3,1,1] ≤ 96\n",
      " restr2[4,1] : -x[1] + x[4] + 100 γ[4,1,1] ≤ 98\n",
      " restr2[1,2] : x[1] - x[2] + 100 γ[1,2,1] ≤ 97\n",
      " restr2[2,2] : 100 γ[2,2,1] ≤ 98\n",
      " restr2[3,2] : -x[2] + x[3] + 100 γ[3,2,1] ≤ 96\n",
      " restr2[4,2] : -x[2] + x[4] + 100 γ[4,2,1] ≤ 98\n",
      " restr2[1,3] : x[1] - x[3] + 100 γ[1,3,1] ≤ 97\n",
      " restr2[2,3] : x[2] - x[3] + 100 γ[2,3,1] ≤ 98\n",
      " restr2[3,3] : 100 γ[3,3,1] ≤ 96\n",
      " restr2[4,3] : -x[3] + x[4] + 100 γ[4,3,1] ≤ 98\n",
      " restr2[1,4] : x[1] - x[4] + 100 γ[1,4,1] ≤ 97\n",
      " restr2[2,4] : x[2] - x[4] + 100 γ[2,4,1] ≤ 98\n",
      " restr2[3,4] : x[3] - x[4] + 100 γ[3,4,1] ≤ 96\n",
      " restr2[4,4] : 100 γ[4,4,1] ≤ 98\n",
      " x[1] ≥ 0\n",
      " x[2] ≥ 0\n",
      " x[3] ≥ 0\n",
      " x[4] ≥ 0\n",
      " y[1] ≥ 0\n",
      " y[2] ≥ 0\n",
      " y[3] ≥ 0\n",
      " y[4] ≥ 0\n",
      " δ[1] ≥ 0\n",
      " δ[2] ≥ 0\n",
      " δ[3] ≥ 0\n",
      " δ[4] ≥ 0\n",
      " γ[1,1,1] ≥ 0\n",
      " γ[2,1,1] ≥ 0\n",
      " γ[3,1,1] ≥ 0\n",
      " γ[4,1,1] ≥ 0\n",
      " γ[1,2,1] ≥ 0\n",
      " γ[2,2,1] ≥ 0\n",
      " γ[3,2,1] ≥ 0\n",
      " γ[4,2,1] ≥ 0\n",
      " γ[1,3,1] ≥ 0\n",
      " γ[2,3,1] ≥ 0\n",
      " γ[3,3,1] ≥ 0\n",
      " γ[4,3,1] ≥ 0\n",
      " γ[1,4,1] ≥ 0\n",
      " γ[2,4,1] ≥ 0\n",
      " γ[3,4,1] ≥ 0\n",
      " γ[4,4,1] ≥ 0\n",
      " γ[1,1,2] ≥ 0\n",
      " γ[2,1,2] ≥ 0\n",
      " γ[3,1,2] ≥ 0\n",
      " γ[4,1,2] ≥ 0\n",
      " γ[1,2,2] ≥ 0\n",
      " γ[2,2,2] ≥ 0\n",
      " γ[3,2,2] ≥ 0\n",
      " γ[4,2,2] ≥ 0\n",
      " γ[1,3,2] ≥ 0\n",
      " γ[2,3,2] ≥ 0\n",
      " γ[3,3,2] ≥ 0\n",
      " γ[4,3,2] ≥ 0\n",
      " γ[1,4,2] ≥ 0\n",
      " γ[2,4,2] ≥ 0\n",
      " γ[3,4,2] ≥ 0\n",
      " γ[4,4,2] ≥ 0\n",
      " γ[1,1,3] ≥ 0\n",
      " γ[2,1,3] ≥ 0\n",
      " γ[3,1,3] ≥ 0\n",
      " γ[4,1,3] ≥ 0\n",
      " γ[1,2,3] ≥ 0\n",
      " γ[2,2,3] ≥ 0\n",
      " γ[3,2,3] ≥ 0\n",
      " γ[4,2,3] ≥ 0\n",
      " γ[1,3,3] ≥ 0\n",
      " γ[2,3,3] ≥ 0\n",
      " γ[3,3,3] ≥ 0\n",
      " γ[4,3,3] ≥ 0\n",
      " γ[1,4,3] ≥ 0\n",
      " γ[2,4,3] ≥ 0\n",
      " γ[3,4,3] ≥ 0\n",
      " γ[4,4,3] ≥ 0\n",
      " γ[1,1,4] ≥ 0\n",
      " γ[2,1,4] ≥ 0\n",
      " γ[3,1,4] ≥ 0\n",
      " γ[4,1,4] ≥ 0\n",
      " γ[1,2,4] ≥ 0\n",
      " γ[2,2,4] ≥ 0\n",
      " γ[3,2,4] ≥ 0\n",
      " γ[4,2,4] ≥ 0\n",
      " γ[1,3,4] ≥ 0\n",
      " γ[2,3,4] ≥ 0\n",
      " γ[3,3,4] ≥ 0\n",
      " γ[4,3,4] ≥ 0\n",
      " γ[1,4,4] ≥ 0\n",
      " γ[2,4,4] ≥ 0\n",
      " γ[3,4,4] ≥ 0\n",
      " γ[4,4,4] ≥ 0\n",
      " δ[1] binary\n",
      " δ[2] binary\n",
      " δ[3] binary\n",
      " δ[4] binary\n",
      " γ[1,1,1] binary\n",
      " γ[2,1,1] binary\n",
      " γ[3,1,1] binary\n",
      " γ[4,1,1] binary\n",
      " γ[1,2,1] binary\n",
      " γ[2,2,1] binary\n",
      " γ[3,2,1] binary\n",
      " γ[4,2,1] binary\n",
      " γ[1,3,1] binary\n",
      " γ[2,3,1] binary\n",
      " γ[3,3,1] binary\n",
      " γ[4,3,1] binary\n",
      " γ[1,4,1] binary\n",
      " γ[2,4,1] binary\n",
      " γ[3,4,1] binary\n",
      " γ[4,4,1] binary\n",
      " γ[1,1,2] binary\n",
      " γ[2,1,2] binary\n",
      " γ[3,1,2] binary\n",
      " γ[4,1,2] binary\n",
      " γ[1,2,2] binary\n",
      " γ[2,2,2] binary\n",
      " γ[3,2,2] binary\n",
      " γ[4,2,2] binary\n",
      " γ[1,3,2] binary\n",
      " γ[2,3,2] binary\n",
      " γ[3,3,2] binary\n",
      " γ[4,3,2] binary\n",
      " γ[1,4,2] binary\n",
      " γ[2,4,2] binary\n",
      " γ[3,4,2] binary\n",
      " γ[4,4,2] binary\n",
      " γ[1,1,3] binary\n",
      " γ[2,1,3] binary\n",
      " γ[3,1,3] binary\n",
      " γ[4,1,3] binary\n",
      " γ[1,2,3] binary\n",
      " γ[2,2,3] binary\n",
      " γ[3,2,3] binary\n",
      " γ[4,2,3] binary\n",
      " γ[1,3,3] binary\n",
      " γ[2,3,3] binary\n",
      " γ[3,3,3] binary\n",
      " γ[4,3,3] binary\n",
      " γ[1,4,3] binary\n",
      " γ[2,4,3] binary\n",
      " γ[3,4,3] binary\n",
      " γ[4,4,3] binary\n",
      " γ[1,1,4] binary\n",
      " γ[2,1,4] binary\n",
      " γ[3,1,4] binary\n",
      " γ[4,1,4] binary\n",
      " γ[1,2,4] binary\n",
      " γ[2,2,4] binary\n",
      " γ[3,2,4] binary\n",
      " γ[4,2,4] binary\n",
      " γ[1,3,4] binary\n",
      " γ[2,3,4] binary\n",
      " γ[3,3,4] binary\n",
      " γ[4,3,4] binary\n",
      " γ[1,4,4] binary\n",
      " γ[2,4,4] binary\n",
      " γ[3,4,4] binary\n",
      " γ[4,4,4] binary\n",
      "\n",
      "\n"
     ]
    }
   ],
   "source": [
    "println(model,\"\\n\")"
   ]
  },
  {
   "cell_type": "code",
   "execution_count": null,
   "metadata": {},
   "outputs": [],
   "source": [
    "#optimize!(model);\n",
    "#print(\"\\n\\n Solução ótima: \")\n",
    "#println(value.(x))\n",
    "#println(\"\\n \\n Valor da função objetivo para a solução ótima: z* = \",#objective_value(model))\n",
    "empty!(model)"
   ]
  }
 ],
 "metadata": {
  "kernelspec": {
   "display_name": "Julia 1.9.3",
   "language": "julia",
   "name": "julia-1.9"
  },
  "language_info": {
   "file_extension": ".jl",
   "mimetype": "application/julia",
   "name": "julia",
   "version": "1.9.3"
  }
 },
 "nbformat": 4,
 "nbformat_minor": 2
}
