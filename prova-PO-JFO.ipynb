{
 "cells": [
  {
   "cell_type": "markdown",
   "metadata": {},
   "source": [
    "# Implementação\n",
    "\n",
    "## Grupo: \n",
    "\n",
    "Samara\n",
    "\n",
    "Giovana\n",
    "\n",
    "Daniel\n",
    "\n",
    "<hr>\n",
    "\n",
    "A DURAÇO fabrica chapas retangulares de aços variados, com comprimento $L$ e largura $W$, que depois corta em retângulos menores, de comprimento $l_i$ e largura $w_i$, para satisfazer às encomendas de clientes. A saída da laminagem um engenheiro consulta as encomendas pendentes no sistema e decide quais retângulos serão cortados naquela chapa, isso é, é definido o padrão de corte para aquela chapa. \n",
    "\n",
    "Cada retângulo encomendado tem um valor de venda $v_i$ e o objetivo é maximizar o valor extraído de cada chapa, ou seja, o valor dos retângulos cortados a partir da chapa. \n",
    "\n",
    "Devido às características do aço variarem com a dirção, os retângulos não podem ser rotacionados e têm de ser cortados segundo a orientação com que foram encomendados, isto é, a dimensão $l_i$ ao longo de $L$ e a dimensão $w_i$ ao longo de $W$. \n",
    "\n",
    "Assuma que o comprimento da chapa é sempre maior ou igual à largura da chapa, ou seja, $L \\geq W$."
   ]
  },
  {
   "cell_type": "markdown",
   "metadata": {},
   "source": [
    "<hr>\n",
    "\n",
    "Considere o seguinte modelo de programação linear mista para este problema:\n",
    "\n",
    "Dados:\n",
    "\n",
    "$L$ – Comprimento da chapa.\n",
    "\n",
    "$W$ – Largura da chapa.\n",
    "\n",
    "$m$ – Número de retângulos encomendados.\n",
    "\n",
    "$l_i$ – Comprimento do retângulo $i$ ($i \\in \\{1, \\dots, m\\}$).\n",
    "\n",
    "$w_i$ – Largura do retângulo $i$ ($i \\in \\{1, \\dots, m\\}$).\n",
    "\n",
    "$v_i$ – Valor do retângulo $i$ ($i \\in \\{1, \\dots, m\\}$).\n",
    "\n",
    "<hr>\n",
    "\n",
    "## Variáveis de decisão:\n",
    "\n",
    "$ \\delta_i \\in \\{0, 1\\}$ – O retângulo $i$ ($i \\in \\{1, \\dots, m$}) é selecionado, ou não, para fazer parte do padrão de corte.\n",
    "\n",
    "$x_i \\geq 0$ – Coordenada $x$ de posicionamento do canto inferior esquerdo do retângulo $i$.\n",
    "\n",
    "$y_i \\geq 0$ – Coordenada $y$ de posicionamento do canto inferior esquerdo do retângulo $i$.\n",
    "\n",
    "\n",
    "Nota: Considere que a origem do sistema de eixos das coordenadas está no canto inferior esquerdo da chapa. Por exemplo, no exemplo apresentado no enunciado, o retângulo de dimensões (0, 65×1, 90) está posicionado nas coordenadas x = 2, 00 ; y = 0, 00.\n",
    "\n",
    "\n",
    "## Variáveis auxiliares:\n",
    "\n",
    "$\\gamma_{ijk} \\in \\{0, 1\\}$ – $i \\in \\{1, \\dots, m\\}$, $j \\in \\{1, \\dots, m\\}$ ∧ $j\\neq i$, $k \\in \\{1, \\dots, 4\\}$"
   ]
  },
  {
   "cell_type": "markdown",
   "metadata": {},
   "source": [
    "<hr>\n",
    "\n",
    "## Função objetivo\n",
    "\n",
    "\\begin{equation*}\n",
    "    \\text{Máx }\\sum_{i=1}^m v_i\\delta_i\n",
    "\\end{equation*}\n",
    "\n",
    "Sujeito a:\n",
    "\n",
    "\\begin{equation*}\n",
    "    x_i-x_j+l_i\\leq (1-\\gamma_{ij1})M \\;\\;\\;\\;\\;\\;\\;\\;\\;\\;\\;\\;\\text{ (2)}\n",
    "\\end{equation*}\n",
    "\n",
    "\\begin{equation*}\n",
    "    -x_i+x_j+l_j\\leq (1-\\gamma_{ij2})M \\;\\;\\;\\;\\;\\;\\;\\;\\;\\;\\;\\;\\text{ (3)}\n",
    "\\end{equation*}\n",
    "\n",
    "\\begin{equation*}\n",
    "    y_i-y_j+w_i\\leq (1-\\gamma_{ij3})M \\;\\;\\;\\;\\;\\;\\;\\;\\;\\;\\;\\;\\text{ (4)}\n",
    "\\end{equation*}\n",
    "\n",
    "\\begin{equation*}\n",
    "    -y_i-y_j+w_j\\leq (1-\\gamma_{ij4})M \\;\\;\\;\\;\\;\\;\\;\\;\\;\\;\\;\\;\\text{ (5)}\n",
    "\\end{equation*}\n",
    "\n",
    "\\begin{equation*}\n",
    "    \\sum_{k=1}^4\\gamma_{ijk}\\geq \\delta_i + \\delta_j -1 \\;\\;\\;\\;\\;\\;\\;\\;\\;\\;\\;\\;\\text{ (2)}\n",
    "\\end{equation*}\n",
    "\n",
    "\\begin{equation*}\n",
    "    x_i\\leq L-l_i\\;\\;\\;\\;\\;\\;\\;\\;\\;\\;\\;\\;\\text{ (7)}\n",
    "\\end{equation*}\n",
    "\n",
    "\\begin{equation*}\n",
    "    y_i\\leq W-w_i \\;\\;\\;\\;\\;\\;\\;\\;\\;\\;\\;\\;\\text{ (8)}\n",
    "\\end{equation*}\n",
    "\n",
    "\\begin{equation*}\n",
    "    x_i,y_i\\geq 0\\;\\;\\;\\;\\;\\;\\;\\;\\;\\;\\;\\;\\text{ (9)}\n",
    "\\end{equation*}\n",
    "\n",
    "\\begin{equation*}\n",
    "    \\delta_i\\in\\{0,1\\}\\;\\;\\;\\;\\;\\;\\;\\;\\;\\;\\;\\;\\text{ (10)}\n",
    "\\end{equation*}\n",
    "\n",
    "\\begin{equation*}\n",
    "    \\gamma_{ijk}\\in\\{0,1\\}\\;\\;\\;\\;\\;\\;\\;\\;\\;\\;\\;\\;\\text{ (11)}\n",
    "\\end{equation*}\n",
    "\n",
    "\\begin{equation*}\n",
    "    M \\rightarrow \\infty \\;\\;\\;\\;\\;\\;\\;\\;\\;\\;\\;\\;\\text{ (12)}\n",
    "\\end{equation*}"
   ]
  },
  {
   "cell_type": "markdown",
   "metadata": {},
   "source": [
    "<hr>\n",
    "\n",
    "### Exemplo concreto:\n",
    "\n",
    "<img title=\"\" src=\"https://raw.githubusercontent.com/Daniel-C-Fernandes/PO/main/chapas.png\" alt=\"transporte\" style=\"zoom:20%\">\n",
    "\n",
    "<hr>\n",
    "\n",
    "Modelo computacional:"
   ]
  },
  {
   "cell_type": "code",
   "execution_count": 1,
   "metadata": {},
   "outputs": [
    {
     "data": {
      "text/plain": [
       "4×3 Matrix{Int64}:\n",
       " 3  2  4\n",
       " 2  3  5\n",
       " 4  1  6\n",
       " 2  2  3"
      ]
     },
     "execution_count": 1,
     "metadata": {},
     "output_type": "execute_result"
    }
   ],
   "source": [
    "# Dados:\n",
    "\n",
    "# M grande\n",
    "M = 100\n",
    "\n",
    "# Chapa padrão\n",
    "L = 4\n",
    "W = 4\n",
    "\n",
    "# Cortes: l_i, w_i, v_i\n",
    "C = [\n",
    "    3 2 4;\n",
    "    2 3 5;\n",
    "    4 1 6;\n",
    "    2 2 3\n",
    "]"
   ]
  },
  {
   "cell_type": "code",
   "execution_count": 2,
   "metadata": {},
   "outputs": [
    {
     "data": {
      "text/latex": [
       "$ 4 δ_{1} + 5 δ_{2} + 6 δ_{3} + 3 δ_{4} $"
      ],
      "text/plain": [
       "4 δ[1] + 5 δ[2] + 6 δ[3] + 3 δ[4]"
      ]
     },
     "execution_count": 2,
     "metadata": {},
     "output_type": "execute_result"
    }
   ],
   "source": [
    "using HiGHS, JuMP, PrettyTables\n",
    "model = Model(HiGHS.Optimizer)\n",
    "\n",
    "# Coordenadas x e y\n",
    "@variable(model, x[i=1:4] >= 0)\n",
    "@variable(model, y[i=1:4] >= 0)\n",
    "@variable(model, δ[i=1:4], Bin)\n",
    "\n",
    "# Variáveis auxiliares\n",
    "@variable(model, γ[i=1:4,j=1:4,k=1:4], Bin)\n",
    "\n",
    "# Função objective\n",
    "@objective(model, Max, C[:,3]'δ)"
   ]
  },
  {
   "cell_type": "code",
   "execution_count": 3,
   "metadata": {},
   "outputs": [
    {
     "data": {
      "text/plain": [
       "JuMP.Containers.SparseAxisArray{ConstraintRef{Model, MathOptInterface.ConstraintIndex{MathOptInterface.ScalarAffineFunction{Float64}, MathOptInterface.LessThan{Float64}}, ScalarShape}, 2, Tuple{Int64, Int64}} with 12 entries:\n",
       "  [1, 2]  =  restr2[1,2] : x[1] - x[2] + 100 γ[1,2,1] ≤ 97\n",
       "  [1, 3]  =  restr2[1,3] : x[1] - x[3] + 100 γ[1,3,1] ≤ 97\n",
       "  [1, 4]  =  restr2[1,4] : x[1] - x[4] + 100 γ[1,4,1] ≤ 97\n",
       "  [2, 1]  =  restr2[2,1] : -x[1] + x[2] + 100 γ[2,1,1] ≤ 98\n",
       "  [2, 3]  =  restr2[2,3] : x[2] - x[3] + 100 γ[2,3,1] ≤ 98\n",
       "  [2, 4]  =  restr2[2,4] : x[2] - x[4] + 100 γ[2,4,1] ≤ 98\n",
       "  [3, 1]  =  restr2[3,1] : -x[1] + x[3] + 100 γ[3,1,1] ≤ 96\n",
       "  [3, 2]  =  restr2[3,2] : -x[2] + x[3] + 100 γ[3,2,1] ≤ 96\n",
       "  [3, 4]  =  restr2[3,4] : x[3] - x[4] + 100 γ[3,4,1] ≤ 96\n",
       "  [4, 1]  =  restr2[4,1] : -x[1] + x[4] + 100 γ[4,1,1] ≤ 98\n",
       "  [4, 2]  =  restr2[4,2] : -x[2] + x[4] + 100 γ[4,2,1] ≤ 98\n",
       "          ⋮\n",
       "  [4, 3]  =  restr2[4,3] : -x[3] + x[4] + 100 γ[4,3,1] ≤ 98"
      ]
     },
     "execution_count": 3,
     "metadata": {},
     "output_type": "execute_result"
    }
   ],
   "source": [
    "# Restrição (2)\n",
    "@constraint(model, restr2[i=1:4,j=1:4;i!=j], x[i]-x[j]+C[i,1]<=(1-γ[i,j,1])*M)"
   ]
  },
  {
   "cell_type": "code",
   "execution_count": 4,
   "metadata": {},
   "outputs": [
    {
     "data": {
      "text/plain": [
       "JuMP.Containers.SparseAxisArray{ConstraintRef{Model, MathOptInterface.ConstraintIndex{MathOptInterface.ScalarAffineFunction{Float64}, MathOptInterface.LessThan{Float64}}, ScalarShape}, 2, Tuple{Int64, Int64}} with 12 entries:\n",
       "  [1, 2]  =  restr3[1,2] : -x[1] + x[2] + 100 γ[1,2,2] ≤ 97\n",
       "  [1, 3]  =  restr3[1,3] : -x[1] + x[3] + 100 γ[1,3,2] ≤ 97\n",
       "  [1, 4]  =  restr3[1,4] : -x[1] + x[4] + 100 γ[1,4,2] ≤ 97\n",
       "  [2, 1]  =  restr3[2,1] : x[1] - x[2] + 100 γ[2,1,2] ≤ 98\n",
       "  [2, 3]  =  restr3[2,3] : -x[2] + x[3] + 100 γ[2,3,2] ≤ 98\n",
       "  [2, 4]  =  restr3[2,4] : -x[2] + x[4] + 100 γ[2,4,2] ≤ 98\n",
       "  [3, 1]  =  restr3[3,1] : x[1] - x[3] + 100 γ[3,1,2] ≤ 96\n",
       "  [3, 2]  =  restr3[3,2] : x[2] - x[3] + 100 γ[3,2,2] ≤ 96\n",
       "  [3, 4]  =  restr3[3,4] : -x[3] + x[4] + 100 γ[3,4,2] ≤ 96\n",
       "  [4, 1]  =  restr3[4,1] : x[1] - x[4] + 100 γ[4,1,2] ≤ 98\n",
       "  [4, 2]  =  restr3[4,2] : x[2] - x[4] + 100 γ[4,2,2] ≤ 98\n",
       "          ⋮\n",
       "  [4, 3]  =  restr3[4,3] : x[3] - x[4] + 100 γ[4,3,2] ≤ 98"
      ]
     },
     "execution_count": 4,
     "metadata": {},
     "output_type": "execute_result"
    }
   ],
   "source": [
    "# Restrição (3)\n",
    "@constraint(model, restr3[i=1:4,j=1:4;i!=j],-x[i]+x[j]+C[i,1]<=(1-γ[i,j,2])*M)"
   ]
  },
  {
   "cell_type": "code",
   "execution_count": 5,
   "metadata": {},
   "outputs": [
    {
     "data": {
      "text/plain": [
       "JuMP.Containers.SparseAxisArray{ConstraintRef{Model, MathOptInterface.ConstraintIndex{MathOptInterface.ScalarAffineFunction{Float64}, MathOptInterface.LessThan{Float64}}, ScalarShape}, 2, Tuple{Int64, Int64}} with 12 entries:\n",
       "  [1, 2]  =  restr4[1,2] : y[1] - y[2] + 100 γ[1,2,3] ≤ 98\n",
       "  [1, 3]  =  restr4[1,3] : y[1] - y[3] + 100 γ[1,3,3] ≤ 98\n",
       "  [1, 4]  =  restr4[1,4] : y[1] - y[4] + 100 γ[1,4,3] ≤ 98\n",
       "  [2, 1]  =  restr4[2,1] : -y[1] + y[2] + 100 γ[2,1,3] ≤ 97\n",
       "  [2, 3]  =  restr4[2,3] : y[2] - y[3] + 100 γ[2,3,3] ≤ 97\n",
       "  [2, 4]  =  restr4[2,4] : y[2] - y[4] + 100 γ[2,4,3] ≤ 97\n",
       "  [3, 1]  =  restr4[3,1] : -y[1] + y[3] + 100 γ[3,1,3] ≤ 99\n",
       "  [3, 2]  =  restr4[3,2] : -y[2] + y[3] + 100 γ[3,2,3] ≤ 99\n",
       "  [3, 4]  =  restr4[3,4] : y[3] - y[4] + 100 γ[3,4,3] ≤ 99\n",
       "  [4, 1]  =  restr4[4,1] : -y[1] + y[4] + 100 γ[4,1,3] ≤ 98\n",
       "  [4, 2]  =  restr4[4,2] : -y[2] + y[4] + 100 γ[4,2,3] ≤ 98\n",
       "          ⋮\n",
       "  [4, 3]  =  restr4[4,3] : -y[3] + y[4] + 100 γ[4,3,3] ≤ 98"
      ]
     },
     "execution_count": 5,
     "metadata": {},
     "output_type": "execute_result"
    }
   ],
   "source": [
    "# Restrição (4)\n",
    "@constraint(model, restr4[i=1:4,j=1:4;i!=j],y[i]-y[j]+C[i,2]<=(1-γ[i,j,3])*M)"
   ]
  },
  {
   "cell_type": "code",
   "execution_count": 6,
   "metadata": {},
   "outputs": [
    {
     "data": {
      "text/plain": [
       "JuMP.Containers.SparseAxisArray{ConstraintRef{Model, MathOptInterface.ConstraintIndex{MathOptInterface.ScalarAffineFunction{Float64}, MathOptInterface.LessThan{Float64}}, ScalarShape}, 2, Tuple{Int64, Int64}} with 12 entries:\n",
       "  [1, 2]  =  restr5[1,2] : -y[1] + y[2] + 100 γ[1,2,4] ≤ 98\n",
       "  [1, 3]  =  restr5[1,3] : -y[1] + y[3] + 100 γ[1,3,4] ≤ 98\n",
       "  [1, 4]  =  restr5[1,4] : -y[1] + y[4] + 100 γ[1,4,4] ≤ 98\n",
       "  [2, 1]  =  restr5[2,1] : y[1] - y[2] + 100 γ[2,1,4] ≤ 97\n",
       "  [2, 3]  =  restr5[2,3] : -y[2] + y[3] + 100 γ[2,3,4] ≤ 97\n",
       "  [2, 4]  =  restr5[2,4] : -y[2] + y[4] + 100 γ[2,4,4] ≤ 97\n",
       "  [3, 1]  =  restr5[3,1] : y[1] - y[3] + 100 γ[3,1,4] ≤ 99\n",
       "  [3, 2]  =  restr5[3,2] : y[2] - y[3] + 100 γ[3,2,4] ≤ 99\n",
       "  [3, 4]  =  restr5[3,4] : -y[3] + y[4] + 100 γ[3,4,4] ≤ 99\n",
       "  [4, 1]  =  restr5[4,1] : y[1] - y[4] + 100 γ[4,1,4] ≤ 98\n",
       "  [4, 2]  =  restr5[4,2] : y[2] - y[4] + 100 γ[4,2,4] ≤ 98\n",
       "          ⋮\n",
       "  [4, 3]  =  restr5[4,3] : y[3] - y[4] + 100 γ[4,3,4] ≤ 98"
      ]
     },
     "execution_count": 6,
     "metadata": {},
     "output_type": "execute_result"
    }
   ],
   "source": [
    "# Restrição (5)\n",
    "@constraint(model, restr5[i=1:4,j=1:4;i!=j],-y[i]+y[j]+C[i,2]<=(1-γ[i,j,4])*M)"
   ]
  },
  {
   "cell_type": "code",
   "execution_count": 7,
   "metadata": {},
   "outputs": [
    {
     "data": {
      "text/plain": [
       "JuMP.Containers.SparseAxisArray{ConstraintRef{Model, MathOptInterface.ConstraintIndex{MathOptInterface.ScalarAffineFunction{Float64}, MathOptInterface.GreaterThan{Float64}}, ScalarShape}, 2, Tuple{Int64, Int64}} with 12 entries:\n",
       "  [1, 2]  =  restr6[1,2] : -δ[1] - δ[2] + γ[1,2,1] + γ[1,2,2] + γ[1,2,3] + γ[1,2,4] ≥ -1\n",
       "  [1, 3]  =  restr6[1,3] : -δ[1] - δ[3] + γ[1,3,1] + γ[1,3,2] + γ[1,3,3] + γ[1,3,4] ≥ -1\n",
       "  [1, 4]  =  restr6[1,4] : -δ[1] - δ[4] + γ[1,4,1] + γ[1,4,2] + γ[1,4,3] + γ[1,4,4] ≥ -1\n",
       "  [2, 1]  =  restr6[2,1] : -δ[1] - δ[2] + γ[2,1,1] + γ[2,1,2] + γ[2,1,3] + γ[2,1,4] ≥ -1\n",
       "  [2, 3]  =  restr6[2,3] : -δ[2] - δ[3] + γ[2,3,1] + γ[2,3,2] + γ[2,3,3] + γ[2,3,4] ≥ -1\n",
       "  [2, 4]  =  restr6[2,4] : -δ[2] - δ[4] + γ[2,4,1] + γ[2,4,2] + γ[2,4,3] + γ[2,4,4] ≥ -1\n",
       "  [3, 1]  =  restr6[3,1] : -δ[1] - δ[3] + γ[3,1,1] + γ[3,1,2] + γ[3,1,3] + γ[3,1,4] ≥ -1\n",
       "  [3, 2]  =  restr6[3,2] : -δ[2] - δ[3] + γ[3,2,1] + γ[3,2,2] + γ[3,2,3] + γ[3,2,4] ≥ -1\n",
       "  [3, 4]  =  restr6[3,4] : -δ[3] - δ[4] + γ[3,4,1] + γ[3,4,2] + γ[3,4,3] + γ[3,4,4] ≥ -1\n",
       "  [4, 1]  =  restr6[4,1] : -δ[1] - δ[4] + γ[4,1,1] + γ[4,1,2] + γ[4,1,3] + γ[4,1,4] ≥ -1\n",
       "  [4, 2]  =  restr6[4,2] : -δ[2] - δ[4] + γ[4,2,1] + γ[4,2,2] + γ[4,2,3] + γ[4,2,4] ≥ -1\n",
       "          ⋮\n",
       "  [4, 3]  =  restr6[4,3] : -δ[3] - δ[4] + γ[4,3,1] + γ[4,3,2] + γ[4,3,3] + γ[4,3,4] ≥ -1"
      ]
     },
     "execution_count": 7,
     "metadata": {},
     "output_type": "execute_result"
    }
   ],
   "source": [
    "# Restrição (6)\n",
    "@constraint(model, restr6[i=1:4,j=1:4;i!=j],sum(γ[i,j,k] for k=1:4)>=δ[i]+δ[j]-1)"
   ]
  },
  {
   "cell_type": "code",
   "execution_count": 8,
   "metadata": {},
   "outputs": [
    {
     "data": {
      "text/plain": [
       "4-element Vector{ConstraintRef{Model, MathOptInterface.ConstraintIndex{MathOptInterface.ScalarAffineFunction{Float64}, MathOptInterface.LessThan{Float64}}, ScalarShape}}:\n",
       " restr7[1] : x[1] ≤ 1\n",
       " restr7[2] : x[2] ≤ 2\n",
       " restr7[3] : x[3] ≤ 0\n",
       " restr7[4] : x[4] ≤ 2"
      ]
     },
     "execution_count": 8,
     "metadata": {},
     "output_type": "execute_result"
    }
   ],
   "source": [
    "# Restrição (7)\n",
    "@constraint(model, restr7[i=1:4], x[i]<=L-C[i,1])"
   ]
  },
  {
   "cell_type": "code",
   "execution_count": 9,
   "metadata": {},
   "outputs": [
    {
     "data": {
      "text/plain": [
       "4-element Vector{ConstraintRef{Model, MathOptInterface.ConstraintIndex{MathOptInterface.ScalarAffineFunction{Float64}, MathOptInterface.LessThan{Float64}}, ScalarShape}}:\n",
       " restr8[1] : y[1] ≤ 2\n",
       " restr8[2] : y[2] ≤ 1\n",
       " restr8[3] : y[3] ≤ 3\n",
       " restr8[4] : y[4] ≤ 2"
      ]
     },
     "execution_count": 9,
     "metadata": {},
     "output_type": "execute_result"
    }
   ],
   "source": [
    "# Restrição (8)\n",
    "@constraint(model, restr8[i=1:4], y[i]<=W-C[i,2])"
   ]
  },
  {
   "cell_type": "code",
   "execution_count": 10,
   "metadata": {},
   "outputs": [
    {
     "name": "stdout",
     "output_type": "stream",
     "text": [
      "Max 4 δ[1] + 5 δ[2] + 6 δ[3] + 3 δ[4]\n",
      "Subject to\n",
      " restr6[1,2] : -δ[1] - δ[2] + γ[1,2,1] + γ[1,2,2] + γ[1,2,3] + γ[1,2,4] ≥ -1\n",
      " restr6[1,3] : -δ[1] - δ[3] + γ[1,3,1] + γ[1,3,2] + γ[1,3,3] + γ[1,3,4] ≥ -1\n",
      " restr6[1,4] : -δ[1] - δ[4] + γ[1,4,1] + γ[1,4,2] + γ[1,4,3] + γ[1,4,4] ≥ -1\n",
      " restr6[2,1] : -δ[1] - δ[2] + γ[2,1,1] + γ[2,1,2] + γ[2,1,3] + γ[2,1,4] ≥ -1\n",
      " restr6[2,3] : -δ[2] - δ[3] + γ[2,3,1] + γ[2,3,2] + γ[2,3,3] + γ[2,3,4] ≥ -1\n",
      " restr6[2,4] : -δ[2] - δ[4] + γ[2,4,1] + γ[2,4,2] + γ[2,4,3] + γ[2,4,4] ≥ -1\n",
      " restr6[3,1] : -δ[1] - δ[3] + γ[3,1,1] + γ[3,1,2] + γ[3,1,3] + γ[3,1,4] ≥ -1\n",
      " restr6[3,2] : -δ[2] - δ[3] + γ[3,2,1] + γ[3,2,2] + γ[3,2,3] + γ[3,2,4] ≥ -1\n",
      " restr6[3,4] : -δ[3] - δ[4] + γ[3,4,1] + γ[3,4,2] + γ[3,4,3] + γ[3,4,4] ≥ -1\n",
      " restr6[4,1] : -δ[1] - δ[4] + γ[4,1,1] + γ[4,1,2] + γ[4,1,3] + γ[4,1,4] ≥ -1\n",
      " restr6[4,2] : -δ[2] - δ[4] + γ[4,2,1] + γ[4,2,2] + γ[4,2,3] + γ[4,2,4] ≥ -1\n",
      " restr6[4,3] : -δ[3] - δ[4] + γ[4,3,1] + γ[4,3,2] + γ[4,3,3] + γ[4,3,4] ≥ -1\n",
      " restr2[1,2] : x[1] - x[2] + 100 γ[1,2,1] ≤ 97\n",
      " restr2[1,3] : x[1] - x[3] + 100 γ[1,3,1] ≤ 97\n",
      " restr2[1,4] : x[1] - x[4] + 100 γ[1,4,1] ≤ 97\n",
      " restr2[2,1] : -x[1] + x[2] + 100 γ[2,1,1] ≤ 98\n",
      " restr2[2,3] : x[2] - x[3] + 100 γ[2,3,1] ≤ 98\n",
      " restr2[2,4] : x[2] - x[4] + 100 γ[2,4,1] ≤ 98\n",
      " restr2[3,1] : -x[1] + x[3] + 100 γ[3,1,1] ≤ 96\n",
      " restr2[3,2] : -x[2] + x[3] + 100 γ[3,2,1] ≤ 96\n",
      " restr2[3,4] : x[3] - x[4] + 100 γ[3,4,1] ≤ 96\n",
      " restr2[4,1] : -x[1] + x[4] + 100 γ[4,1,1] ≤ 98\n",
      " restr2[4,2] : -x[2] + x[4] + 100 γ[4,2,1] ≤ 98\n",
      " restr2[4,3] : -x[3] + x[4] + 100 γ[4,3,1] ≤ 98\n",
      " restr3[1,2] : -x[1] + x[2] + 100 γ[1,2,2] ≤ 97\n",
      " restr3[1,3] : -x[1] + x[3] + 100 γ[1,3,2] ≤ 97\n",
      " restr3[1,4] : -x[1] + x[4] + 100 γ[1,4,2] ≤ 97\n",
      " restr3[2,1] : x[1] - x[2] + 100 γ[2,1,2] ≤ 98\n",
      " restr3[2,3] : -x[2] + x[3] + 100 γ[2,3,2] ≤ 98\n",
      " restr3[2,4] : -x[2] + x[4] + 100 γ[2,4,2] ≤ 98\n",
      " restr3[3,1] : x[1] - x[3] + 100 γ[3,1,2] ≤ 96\n",
      " restr3[3,2] : x[2] - x[3] + 100 γ[3,2,2] ≤ 96\n",
      " restr3[3,4] : -x[3] + x[4] + 100 γ[3,4,2] ≤ 96\n",
      " restr3[4,1] : x[1] - x[4] + 100 γ[4,1,2] ≤ 98\n",
      " restr3[4,2] : x[2] - x[4] + 100 γ[4,2,2] ≤ 98\n",
      " restr3[4,3] : x[3] - x[4] + 100 γ[4,3,2] ≤ 98\n",
      " restr4[1,2] : y[1] - y[2] + 100 γ[1,2,3] ≤ 98\n",
      " restr4[1,3] : y[1] - y[3] + 100 γ[1,3,3] ≤ 98\n",
      " restr4[1,4] : y[1] - y[4] + 100 γ[1,4,3] ≤ 98\n",
      " restr4[2,1] : -y[1] + y[2] + 100 γ[2,1,3] ≤ 97\n",
      " restr4[2,3] : y[2] - y[3] + 100 γ[2,3,3] ≤ 97\n",
      " restr4[2,4] : y[2] - y[4] + 100 γ[2,4,3] ≤ 97\n",
      " restr4[3,1] : -y[1] + y[3] + 100 γ[3,1,3] ≤ 99\n",
      " restr4[3,2] : -y[2] + y[3] + 100 γ[3,2,3] ≤ 99\n",
      " restr4[3,4] : y[3] - y[4] + 100 γ[3,4,3] ≤ 99\n",
      " restr4[4,1] : -y[1] + y[4] + 100 γ[4,1,3] ≤ 98\n",
      " restr4[4,2] : -y[2] + y[4] + 100 γ[4,2,3] ≤ 98\n",
      " restr4[4,3] : -y[3] + y[4] + 100 γ[4,3,3] ≤ 98\n",
      " restr5[1,2] : -y[1] + y[2] + 100 γ[1,2,4] ≤ 98\n",
      " restr5[1,3] : -y[1] + y[3] + 100 γ[1,3,4] ≤ 98\n",
      " restr5[1,4] : -y[1] + y[4] + 100 γ[1,4,4] ≤ 98\n",
      " restr5[2,1] : y[1] - y[2] + 100 γ[2,1,4] ≤ 97\n",
      " restr5[2,3] : -y[2] + y[3] + 100 γ[2,3,4] ≤ 97\n",
      " restr5[2,4] : -y[2] + y[4] + 100 γ[2,4,4] ≤ 97\n",
      " restr5[3,1] : y[1] - y[3] + 100 γ[3,1,4] ≤ 99\n",
      " restr5[3,2] : y[2] - y[3] + 100 γ[3,2,4] ≤ 99\n",
      " restr5[3,4] : -y[3] + y[4] + 100 γ[3,4,4] ≤ 99\n",
      " restr5[4,1] : y[1] - y[4] + 100 γ[4,1,4] ≤ 98\n",
      " restr5[4,2] : y[2] - y[4] + 100 γ[4,2,4] ≤ 98\n",
      " restr5[4,3] : y[3] - y[4] + 100 γ[4,3,4] ≤ 98\n",
      " restr7[1] : x[1] ≤ 1\n",
      " restr7[2] : x[2] ≤ 2\n",
      " restr7[3] : x[3] ≤ 0\n",
      " restr7[4] : x[4] ≤ 2\n",
      " restr8[1] : y[1] ≤ 2\n",
      " restr8[2] : y[2] ≤ 1\n",
      " restr8[3] : y[3] ≤ 3\n",
      " restr8[4] : y[4] ≤ 2\n",
      " x[1] ≥ 0\n",
      " x[2] ≥ 0\n",
      " x[3] ≥ 0\n",
      " x[4] ≥ 0\n",
      " y[1] ≥ 0\n",
      " y[2] ≥ 0\n",
      " y[3] ≥ 0\n",
      " y[4] ≥ 0\n",
      " δ[1] binary\n",
      " δ[2] binary\n",
      " δ[3] binary\n",
      " δ[4] binary\n",
      " γ[1,1,1] binary\n",
      " γ[2,1,1] binary\n",
      " γ[3,1,1] binary\n",
      " γ[4,1,1] binary\n",
      " γ[1,2,1] binary\n",
      " γ[2,2,1] binary\n",
      " γ[3,2,1] binary\n",
      " γ[4,2,1] binary\n",
      " γ[1,3,1] binary\n",
      " γ[2,3,1] binary\n",
      " γ[3,3,1] binary\n",
      " γ[4,3,1] binary\n",
      " γ[1,4,1] binary\n",
      " γ[2,4,1] binary\n",
      " γ[3,4,1] binary\n",
      " γ[4,4,1] binary\n",
      " γ[1,1,2] binary\n",
      " γ[2,1,2] binary\n",
      " γ[3,1,2] binary\n",
      " γ[4,1,2] binary\n",
      " γ[1,2,2] binary\n",
      " γ[2,2,2] binary\n",
      " γ[3,2,2] binary\n",
      " γ[4,2,2] binary\n",
      " γ[1,3,2] binary\n",
      " γ[2,3,2] binary\n",
      " γ[3,3,2] binary\n",
      " γ[4,3,2] binary\n",
      " γ[1,4,2] binary\n",
      " γ[2,4,2] binary\n",
      " γ[3,4,2] binary\n",
      " γ[4,4,2] binary\n",
      " γ[1,1,3] binary\n",
      " γ[2,1,3] binary\n",
      " γ[3,1,3] binary\n",
      " γ[4,1,3] binary\n",
      " γ[1,2,3] binary\n",
      " γ[2,2,3] binary\n",
      " γ[3,2,3] binary\n",
      " γ[4,2,3] binary\n",
      " γ[1,3,3] binary\n",
      " γ[2,3,3] binary\n",
      " γ[3,3,3] binary\n",
      " γ[4,3,3] binary\n",
      " γ[1,4,3] binary\n",
      " γ[2,4,3] binary\n",
      " γ[3,4,3] binary\n",
      " γ[4,4,3] binary\n",
      " γ[1,1,4] binary\n",
      " γ[2,1,4] binary\n",
      " γ[3,1,4] binary\n",
      " γ[4,1,4] binary\n",
      " γ[1,2,4] binary\n",
      " γ[2,2,4] binary\n",
      " γ[3,2,4] binary\n",
      " γ[4,2,4] binary\n",
      " γ[1,3,4] binary\n",
      " γ[2,3,4] binary\n",
      " γ[3,3,4] binary\n",
      " γ[4,3,4] binary\n",
      " γ[1,4,4] binary\n",
      " γ[2,4,4] binary\n",
      " γ[3,4,4] binary\n",
      " γ[4,4,4] binary\n",
      "\n",
      "\n"
     ]
    }
   ],
   "source": [
    "println(model,\"\\n\")"
   ]
  },
  {
   "cell_type": "code",
   "execution_count": 11,
   "metadata": {},
   "outputs": [
    {
     "name": "stdout",
     "output_type": "stream",
     "text": [
      "Running HiGHS 1.6.0: Copyright (c) 2023 HiGHS under MIT licence terms\n",
      "Presolving model\n",
      "60 rows, 59 cols, 204 nonzeros\n",
      "37 rows, 35 cols, 120 nonzeros\n",
      "Objective function is integral with scale 1\n",
      "\n",
      "Solving MIP model with:\n",
      "   37 rows\n",
      "   35 cols (29 binary, 0 integer, 0 implied int., 6 continuous)\n",
      "   120 nonzeros\n",
      "\n",
      "        Nodes      |    B&B Tree     |            Objective Bounds              |  Dynamic Constraints |       Work      \n",
      "     Proc. InQueue |  Leaves   Expl. | BestBound       BestSol              Gap |   Cuts   InLp Confl. | LpIters     Time\n",
      "\n",
      "         0       0         0   0.00%   18              -inf                 inf        0      0      0         0     0.0s\n",
      " R       0       0         0   0.00%   18              8                125.00%        0      0      0        23     0.0s\n",
      " C       0       0         0   0.00%   14              10                40.00%       96     12      0        50     0.0s\n",
      "\n",
      "Solving report\n",
      "  Status            Optimal\n",
      "  Primal bound      14\n",
      "  Dual bound        14\n",
      "  Gap               0% (tolerance: 0.01%)\n",
      "  Solution status   feasible\n",
      "                    14 (objective)\n",
      "                    0 (bound viol.)\n",
      "                    2.6645352591e-15 (int. viol.)\n",
      "                    0 (row viol.)\n",
      "  Timing            0.01 (total)\n",
      "                    0.00 (presolve)\n",
      "                    0.00 (postsolve)\n",
      "  Nodes             1\n",
      "  LP iterations     69 (total)\n",
      "                    0 (strong br.)\n",
      "                    46 (separation)\n",
      "                    0 (heuristics)\n"
     ]
    }
   ],
   "source": [
    "optimize!(model)"
   ]
  },
  {
   "cell_type": "code",
   "execution_count": 12,
   "metadata": {},
   "outputs": [
    {
     "name": "stdout",
     "output_type": "stream",
     "text": [
      "\n",
      " \n",
      " Valor da função objetivo para a solução ótima: z* = 14.0\n"
     ]
    }
   ],
   "source": [
    "println(\"\\n \\n Valor da função objetivo para a solução ótima: z* = \",objective_value(model))"
   ]
  },
  {
   "cell_type": "code",
   "execution_count": 13,
   "metadata": {},
   "outputs": [
    {
     "name": "stdout",
     "output_type": "stream",
     "text": [
      "\n",
      "\n",
      " Soluções ótima: [0.0, -0.0, 0.0, 2.0]\n"
     ]
    }
   ],
   "source": [
    "print(\"\\n\\n Soluções ótima: \")\n",
    "println(value.(x))"
   ]
  },
  {
   "cell_type": "code",
   "execution_count": 14,
   "metadata": {},
   "outputs": [
    {
     "name": "stdout",
     "output_type": "stream",
     "text": [
      "[0.0, -0.0, 2.9999999999999947, -0.0]\n"
     ]
    }
   ],
   "source": [
    "println(value.(y))"
   ]
  },
  {
   "cell_type": "code",
   "execution_count": 15,
   "metadata": {},
   "outputs": [
    {
     "name": "stdout",
     "output_type": "stream",
     "text": [
      "[-0.0, 1.0, 1.0, 1.0]\n"
     ]
    }
   ],
   "source": [
    "println(value.(δ))"
   ]
  },
  {
   "cell_type": "code",
   "execution_count": 19,
   "metadata": {},
   "outputs": [
    {
     "data": {
      "text/plain": [
       "4×4×4 Array{Float64, 3}:\n",
       "[:, :, 1] =\n",
       " 0.0   0.0  0.0  0.0\n",
       " 0.0   0.0  0.0  1.0\n",
       " 0.0   0.0  0.0  0.0\n",
       " 0.0  -0.0  0.0  0.0\n",
       "\n",
       "[:, :, 2] =\n",
       "  0.0  0.0   0.0   0.0\n",
       " -0.0  0.0  -0.0  -0.0\n",
       "  0.0  0.0   0.0   0.0\n",
       "  0.0  1.0  -0.0   0.0\n",
       "\n",
       "[:, :, 3] =\n",
       " 0.0   0.0  0.0   0.0\n",
       " 0.0   0.0  1.0   0.0\n",
       " 0.0  -0.0  0.0  -0.0\n",
       " 0.0   0.0  1.0   0.0\n",
       "\n",
       "[:, :, 4] =\n",
       "  0.0  -0.0  -0.0  -0.0\n",
       "  0.0   0.0   0.0   0.0\n",
       " -0.0   1.0   0.0   1.0\n",
       " -0.0  -0.0  -0.0   0.0"
      ]
     },
     "execution_count": 19,
     "metadata": {},
     "output_type": "execute_result"
    }
   ],
   "source": [
    "gamma = value.(γ)"
   ]
  },
  {
   "cell_type": "code",
   "execution_count": null,
   "metadata": {},
   "outputs": [
    {
     "data": {
      "text/plain": [
       "A JuMP Model\n",
       "Feasibility problem with:\n",
       "Variables: 0\n",
       "Model mode: AUTOMATIC\n",
       "CachingOptimizer state: EMPTY_OPTIMIZER\n",
       "Solver name: HiGHS"
      ]
     },
     "execution_count": 155,
     "metadata": {},
     "output_type": "execute_result"
    }
   ],
   "source": [
    "empty!(model)"
   ]
  }
 ],
 "metadata": {
  "kernelspec": {
   "display_name": "Julia 1.9.3",
   "language": "julia",
   "name": "julia-1.9"
  },
  "language_info": {
   "file_extension": ".jl",
   "mimetype": "application/julia",
   "name": "julia",
   "version": "1.9.3"
  }
 },
 "nbformat": 4,
 "nbformat_minor": 2
}
